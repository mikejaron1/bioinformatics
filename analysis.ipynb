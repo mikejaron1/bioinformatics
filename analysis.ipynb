{
 "cells": [
  {
   "cell_type": "code",
   "execution_count": 215,
   "metadata": {
    "collapsed": false
   },
   "outputs": [],
   "source": [
    "import pandas as pd\n",
    "from pandas.tools.plotting import scatter_matrix\n",
    "import numpy as np\n",
    "import matplotlib.pyplot as plt\n",
    "%matplotlib inline\n",
    "import os\n",
    "\n",
    "from sklearn.preprocessing import Imputer\n",
    "from sklearn import cross_validation\n",
    "from sklearn.cross_validation import KFold, cross_val_score, cross_val_predict\n",
    "\n",
    "from sklearn.metrics import classification_report\n",
    "from sklearn.metrics import confusion_matrix\n",
    "from sklearn.metrics import accuracy_score\n",
    "from sklearn.metrics import mean_squared_error\n",
    "from sklearn.metrics import f1_score\n",
    "\n",
    "from sklearn.ensemble import GradientBoostingClassifier\n",
    "from sklearn.cross_decomposition import PLSRegression\n",
    "from sklearn.linear_model import LinearRegression\n",
    "from sklearn.ensemble import RandomForestRegressor\n",
    "\n",
    "from sklearn.decomposition import PCA\n",
    "from sklearn.pipeline import Pipeline\n",
    "\n",
    "from sklearn.ensemble import RandomForestClassifier\n",
    "from sklearn.linear_model import LogisticRegression\n",
    "from sklearn.tree import DecisionTreeClassifier\n",
    "from sklearn.neighbors import KNeighborsClassifier\n",
    "from sklearn.discriminant_analysis import LinearDiscriminantAnalysis\n",
    "from sklearn.naive_bayes import GaussianNB\n",
    "from sklearn.svm import SVC"
   ]
  },
  {
   "cell_type": "code",
   "execution_count": 1901,
   "metadata": {
    "collapsed": false
   },
   "outputs": [],
   "source": [
    "directory = \"/Users/mjaron/Google Drive/QMSS/translational_bioinformatics/Research Project/Data/\"\n",
    "variables = pd.read_csv(directory+'variables_master.csv')\n",
    "independent_variables = variables[variables['ind_dependent'] == 'independent']\n",
    "dependent_variables = variables[variables['ind_dependent'] == 'dependent']\n",
    "\n",
    "## creating a basic dictionary for lookup\n",
    "var_dict = {}\n",
    "for count, name in enumerate(variables['name']): \n",
    "    var_dict[str(name)] = {'label':variables['label'][count],\n",
    "                               'file': variables['file'][count],\n",
    "                               'year':variables['years'][count],\n",
    "                                'var_type': 'na',  ##could add type, i.e. range of values, code, binary, etc\n",
    "                                'ind_dep': variables['ind_dependent'][count]}\n",
    "\n",
    "## using this to find the exact variables for each file\n",
    "file_var_dict = {}\n",
    "for count, file_ in enumerate(variables['file']):\n",
    "    temp_df = variables[variables['file'] == file_]\n",
    "    var_list = temp_df['name']\n",
    "    year_list = temp_df['years']\n",
    "    file_var_dict[file_] = {'variables':list(var_list), 'year':list(year_list)}\n",
    "\n",
    "\n",
    "## getting actual data and reading into dict                  \n",
    "data_dict = {}\n",
    "for file_ in os.listdir(directory+'Demographic/'):\n",
    "    if '.XPT' in file_:\n",
    "        temp_df = pd.read_sas(directory+'Demographic/'+file_)\n",
    "        data_dict[file_[:-4]] = temp_df\n",
    "\n",
    "        \n",
    "file_abr = list(set(variables['file']))\n",
    "# print data_dict.keys()"
   ]
  },
  {
   "cell_type": "code",
   "execution_count": 1902,
   "metadata": {
    "collapsed": false,
    "scrolled": true
   },
   "outputs": [],
   "source": [
    "## create a filtered data dictionary where now it narrows down to varialbes I only car about plus adding in year\n",
    "## Gets entire df and just select columns needed, then adds in the year for each row.\n",
    "\n",
    "filt_data_dict = {}\n",
    "for name in data_dict.keys():\n",
    "    for abr in file_abr:\n",
    "        if abr in name:\n",
    "            temp_df = pd.DataFrame()\n",
    "            columns = file_var_dict[abr]['variables']\n",
    "            for i in columns:\n",
    "#                 print i\n",
    "                ## hard coded in this as the variable changes name slightly from 11'-14' but pretty much same\n",
    "                i1 = i\n",
    "                if i == 'ACD011A':\n",
    "                    i1 = 'ACD010A'\n",
    "                elif i == 'ACD011B':\n",
    "                    i1 = 'ACD010B'\n",
    "                elif i == 'DMDBORN4' or i == 'DMDBORN2':\n",
    "                    i1= 'DMDBORN'\n",
    "                elif i == 'HIQ011':\n",
    "                    i1= 'HID010'\n",
    "                elif i == 'OCD180':\n",
    "                    i1= 'OCQ180'\n",
    "                try:\n",
    "                    temp_df[i1] = data_dict[name][i]\n",
    "                except:\n",
    "                    continue\n",
    "                    \n",
    "#             temp_df[file_+'_year'] = [name for years in range(0,len(temp_df))] ## might not be necessary\n",
    "            temp_df['SEQN'] =  data_dict[name]['SEQN']\n",
    "            filt_data_dict[name] = temp_df\n",
    "# print filt_data_dict.keys()"
   ]
  },
  {
   "cell_type": "code",
   "execution_count": 1903,
   "metadata": {
    "collapsed": false
   },
   "outputs": [],
   "source": [
    "# RIDRETH1\n",
    "# print var_dict['RIDRETH1']"
   ]
  },
  {
   "cell_type": "code",
   "execution_count": 1904,
   "metadata": {
    "collapsed": false,
    "scrolled": true
   },
   "outputs": [],
   "source": [
    "## combine years for all same files and variables, since SEQN for each year seems to be unique\n",
    "\n",
    "## initiate dict\n",
    "combinded_var_dict ={}\n",
    "for i in filt_data_dict.keys():\n",
    "    for abr in file_abr:\n",
    "        if abr in i:\n",
    "            combinded_var_dict[abr] = pd.DataFrame()\n",
    "\n",
    "## combine all years together for each variable\n",
    "dep_list = list(dependent_variables['file'])\n",
    "for i in filt_data_dict.keys():\n",
    "    for abr in file_abr:\n",
    "        if abr in i:\n",
    "            combinded_var_dict[abr] = combinded_var_dict[abr].append(filt_data_dict[i])\n",
    "            if abr in dep_list:\n",
    "                combinded_var_dict[abr] = combinded_var_dict[abr].dropna()\n",
    "            combinded_var_dict[abr].reset_index(drop=True, inplace=True)\n",
    "    "
   ]
  },
  {
   "cell_type": "code",
   "execution_count": 1905,
   "metadata": {
    "collapsed": false,
    "scrolled": false
   },
   "outputs": [],
   "source": [
    "def clean(col, max_, max_val=np.nan, min_=0, min_val=np.nan, keep_na=True, \\\n",
    "              remove=False, rem_var=99, rem_rep_var=np.nan):\n",
    "    '''\n",
    "    input:\n",
    "        column\n",
    "    arguments:\n",
    "        lots of different ways to clean the column, with mostly preset info\n",
    "    output:\n",
    "        column\n",
    "    '''\n",
    "    col.loc[(col > max_)] = max_val\n",
    "    col.loc[(col < min_)] = min_val\n",
    "    if keep_na == False:\n",
    "        col = col.fillna(value=0)  \n",
    "    if remove == True:\n",
    "        col.loc[(col == rem_var)] = rem_rep_var\n",
    "            \n",
    "    return col\n",
    "\n",
    "#         df['ACD010B'] = df['ACD010B'].where(df['ACD010B'] != 8, 1)"
   ]
  },
  {
   "cell_type": "code",
   "execution_count": 1906,
   "metadata": {
    "collapsed": false
   },
   "outputs": [],
   "source": [
    "# print combinded_var_dict.keys()\n",
    "# print combinded_var_dict['ACQ']['ACD010B']"
   ]
  },
  {
   "cell_type": "code",
   "execution_count": 1907,
   "metadata": {
    "collapsed": false
   },
   "outputs": [],
   "source": [
    "## now clean data based on each uniqe variable\n",
    "## look at each set of variables 1 by 1 and edit if needed\n",
    "\n",
    "'''\n",
    "*ACD01** = 1 or 0, make any # > 1 = na, na = 0\n",
    "\n",
    "*DMDBORN = 1 or 0, make any # > 1 = na\n",
    "DMDHHSIZ = 1-7, 7 is 7 or more\n",
    "*DMDEDUC2 & DMDEDUC3 prob should be combined \n",
    "*DMDEDUC2 = 1-5 good, 6 or more = na\n",
    "*DMDEDUC3 = 1-15 good, 16 or more = na\n",
    "DMDHHSZA = 0-3 good\n",
    "DMDHHSZB = 0-4, 4 is 4 or more\n",
    "DMDHHSZE = 0-3, 3 is 3 or more\n",
    "*DMDHSEDU = 1-5 good, 6 or more = na\n",
    "*DMDMARTL = 1-6 good, 6 or greater *** not linear, each val is diff, prob need to split up into indiv binary columns\n",
    "*INDFMIN2 = 1-15 (not 12 & 13), good\n",
    "*RIAGENDR = 1-2 good *** categorical, needs to be split up\n",
    "RIDAGEYR = 0-80 good\n",
    "\n",
    "*HID010 = 1 yes , 2 no, change to 1 yes , 0 no\n",
    "\n",
    "LBXIN = range, good \n",
    "\n",
    "*OCD150 = 1 is working, anything above basically not working make 0\n",
    "*OCQ180 = 1 to 133\n",
    "'''\n",
    "\n",
    "for i in combinded_var_dict:\n",
    "    if 'ACQ' in i:\n",
    "        df = combinded_var_dict[i]\n",
    "        df['ACD010A'] = clean(df['ACD010A'], max_= 1, max_val=0, keep_na=False)\n",
    "        df['ACD010B'] = clean(df['ACD010B'], max_= 7, max_val=1, keep_na=False)\n",
    "        combinded_var_dict[i] = df\n",
    "        \n",
    "    elif 'DEMO' in i:\n",
    "        df = combinded_var_dict[i]\n",
    "        df['DMDBORN'] = clean(df['DMDBORN'], max_= 1, max_val=0)\n",
    "        df['DMDEDUC2'] = clean(df['DMDEDUC2'], max_= 6)\n",
    "        df['DMDEDUC3'] = clean(df['DMDEDUC3'], max_= 16, remove=True, rem_var=14)\n",
    "        df['DMDHSEDU'] = clean(df['DMDHSEDU'], max_= 5)\n",
    "\n",
    "        ## split up below categorical variable\n",
    "        df['DMDMARTL'] = clean(df['DMDMARTL'], max_= 6, keep_na=False)\n",
    "        new_var_list = ['Missing', 'Married', 'Widowed', 'Divorced', 'Separated', 'Never_married', 'Living_with_partner']\n",
    "        for item in range(0,7):\n",
    "            ## create empty list of 0 with same len\n",
    "            df['DMDMARTL_'+new_var_list[item]] = [0]*len(df['DMDMARTL']) \n",
    "            ## find the index of each item = to the number\n",
    "            df['DMDMARTL_'+new_var_list[item]].loc[(df['DMDMARTL'] == item)] = 1\n",
    "        ## get rid of the original column now since it has been split up    \n",
    "        df.drop('DMDMARTL', axis=1, inplace=True)\n",
    "        \n",
    "#         new_var_list = ['Male', 'Female']\n",
    "#         for item in range(1,3):\n",
    "#             ## create empty list of 0 with same len\n",
    "#             df['RIAGENDR_'+new_var_list[item-1]] = [0]*len(df['RIAGENDR']) \n",
    "#             ## find the index of each item = to the number\n",
    "#             df['RIAGENDR_'+new_var_list[item-1]].loc[(df['RIAGENDR'] == item)] = 1\n",
    "#         ## get rid of the original column now since it has been split up    \n",
    "#         df.drop('RIAGENDR', axis=1, inplace=True)\n",
    "        \n",
    "        df['INDFMIN2'] = clean(df['INDFMIN2'], max_= 15, remove=True, rem_var=12)\n",
    "        df['INDFMIN2'].loc[(df['INDFMIN2'] == 13)] = np.nan\n",
    "        combinded_var_dict[i] = df\n",
    "        \n",
    "    elif 'HIQ' in i:\n",
    "        df = combinded_var_dict[i]\n",
    "        df['HID010'] = clean(df['HID010'], max_= 2, remove=True, rem_var=2, rem_rep_var=0)\n",
    "        combinded_var_dict[i] = df\n",
    "        \n",
    "    elif 'L10AM' in i:\n",
    "        continue\n",
    "        \n",
    "    elif 'OCQ' in i:\n",
    "        df = combinded_var_dict[i]\n",
    "        df['OCD150'] = clean(df['OCD150'], max_= 1, max_val=0)\n",
    "        df['OCQ180'] = clean(df['OCQ180'], max_= 133)\n",
    "        combinded_var_dict[i] = df\n"
   ]
  },
  {
   "cell_type": "code",
   "execution_count": 1908,
   "metadata": {
    "collapsed": false
   },
   "outputs": [
    {
     "name": "stdout",
     "output_type": "stream",
     "text": [
      "['alq120q', 'alq130', 'bmxbmi', 'bmxwaist', 'hsq520', 'paq180', 'paq670', 'paqiaf_number', 'paqiaf_totalmet', 'smq040', 'whd020', 'whd110', 'whd120', 'whq150', 'SEQN']\n",
      "(81710, 15)\n",
      "['HIQ', 'DEMO', 'L10AM', 'ACQ', 'other', 'OCQ', 'BPX']\n",
      "alq120q\n",
      "count    32552.000000\n",
      "mean         4.097874\n",
      "std         18.913073\n",
      "min          0.000000\n",
      "25%               NaN\n",
      "50%               NaN\n",
      "75%               NaN\n",
      "max        365.000000\n",
      "Name: alq120q, dtype: float64\n",
      "\n",
      "\n",
      "alq130\n",
      "count    25064.000000\n",
      "mean         3.764443\n",
      "std         29.776993\n",
      "min          1.000000\n",
      "25%               NaN\n",
      "50%               NaN\n",
      "75%               NaN\n",
      "max        999.000000\n",
      "Name: alq130, dtype: float64\n",
      "\n",
      "\n",
      "bmxbmi\n",
      "count    71038.000000\n",
      "mean        25.307827\n",
      "std          7.492891\n",
      "min          7.990000\n",
      "25%               NaN\n",
      "50%               NaN\n",
      "75%               NaN\n",
      "max        130.210000\n",
      "Name: bmxbmi, dtype: float64\n",
      "\n",
      "\n",
      "bmxwaist\n",
      "count    68785.00000\n",
      "mean        86.13201\n",
      "std         21.72152\n",
      "min         32.00000\n",
      "25%              NaN\n",
      "50%              NaN\n",
      "75%              NaN\n",
      "max        179.00000\n",
      "Name: bmxwaist, dtype: float64\n",
      "\n",
      "\n",
      "hsq520\n",
      "count    68910.000000\n",
      "mean         0.054158\n",
      "std          0.226330\n",
      "min          0.000000\n",
      "25%               NaN\n",
      "50%               NaN\n",
      "75%               NaN\n",
      "max          1.000000\n",
      "Name: hsq520, dtype: float64\n",
      "\n",
      "\n",
      "paq180\n",
      "count    24991.00000\n",
      "mean         2.05498\n",
      "std          0.82751\n",
      "min          1.00000\n",
      "25%              NaN\n",
      "50%              NaN\n",
      "75%              NaN\n",
      "max          4.00000\n",
      "Name: paq180, dtype: float64\n",
      "\n",
      "\n",
      "paq670\n",
      "count    11581.000000\n",
      "mean         3.503497\n",
      "std          1.873483\n",
      "min          1.000000\n",
      "25%               NaN\n",
      "50%               NaN\n",
      "75%               NaN\n",
      "max          7.000000\n",
      "Name: paq670, dtype: float64\n",
      "\n",
      "\n",
      "paqiaf_number\n",
      "count    18763.000000\n",
      "mean         2.651335\n",
      "std          2.050152\n",
      "min          1.000000\n",
      "25%               NaN\n",
      "50%               NaN\n",
      "75%               NaN\n",
      "max         31.000000\n",
      "Name: paqiaf_number, dtype: float64\n",
      "\n",
      "\n",
      "paqiaf_totalmet\n",
      "count    18763.000000\n",
      "mean       887.644620\n",
      "std       1002.252693\n",
      "min         25.000000\n",
      "25%               NaN\n",
      "50%               NaN\n",
      "75%               NaN\n",
      "max      12900.000000\n",
      "Name: paqiaf_totalmet, dtype: float64\n",
      "\n",
      "\n",
      "smq040\n",
      "count    20351.000000\n",
      "mean         0.841482\n",
      "std          0.945041\n",
      "min          0.000000\n",
      "25%               NaN\n",
      "50%               NaN\n",
      "75%               NaN\n",
      "max          2.000000\n",
      "Name: smq040, dtype: float64\n",
      "\n",
      "\n",
      "whd020\n",
      "count    50274.000000\n",
      "mean       441.673867\n",
      "std       5151.429392\n",
      "min         50.000000\n",
      "25%               NaN\n",
      "50%               NaN\n",
      "75%               NaN\n",
      "max      99999.000000\n",
      "Name: whd020, dtype: float64\n",
      "\n",
      "\n",
      "whd110\n",
      "count    30299.000000\n",
      "mean       168.432754\n",
      "std         41.841807\n",
      "min         50.000000\n",
      "25%               NaN\n",
      "50%               NaN\n",
      "75%               NaN\n",
      "max        600.000000\n",
      "Name: whd110, dtype: float64\n",
      "\n",
      "\n",
      "whd120\n",
      "count    36109.000000\n",
      "mean       150.366612\n",
      "std         36.815463\n",
      "min         50.000000\n",
      "25%               NaN\n",
      "50%               NaN\n",
      "75%               NaN\n",
      "max        600.000000\n",
      "Name: whd120, dtype: float64\n",
      "\n",
      "\n",
      "whq150\n",
      "count    46009.000000\n",
      "mean       374.332957\n",
      "std       5773.519507\n",
      "min          7.000000\n",
      "25%               NaN\n",
      "50%               NaN\n",
      "75%               NaN\n",
      "max      99999.000000\n",
      "Name: whq150, dtype: float64\n",
      "\n",
      "\n",
      "SEQN\n",
      "count    81710.000000\n",
      "mean     41254.749945\n",
      "std      24001.885388\n",
      "min          1.000000\n",
      "25%      20541.250000\n",
      "50%      41057.500000\n",
      "75%      61559.750000\n",
      "max      83731.000000\n",
      "Name: SEQN, dtype: float64\n",
      "\n",
      "\n"
     ]
    },
    {
     "data": {
      "text/plain": [
       "\"\\n'alq120q', 'alq130', duplicates\\nbpq100b, maybe to telling\\nimq030, maybe to telling, vaccine\\n\""
      ]
     },
     "execution_count": 1908,
     "metadata": {},
     "output_type": "execute_result"
    }
   ],
   "source": [
    "# get kernuys cleaned data and at it all together, for independent variables\n",
    "new_master = pd.DataFrame() \n",
    "for files in os.listdir(directory+'cleaned_data/'):\n",
    "    if '.csv' in files:\n",
    "        temp_df = pd.read_csv(directory+'cleaned_data/'+files)\n",
    "        temp_df.drop('Unnamed: 0', axis=1, inplace=True)\n",
    "        temp_df.drop('year', axis=1, inplace=True)\n",
    "        new_master = new_master.append(temp_df)\n",
    "        new_master = new_master.reset_index(drop=True)\n",
    "\n",
    "new_master['SEQN'] = new_master['seqn']\n",
    "new_master.drop('seqn', axis=1, inplace=True)\n",
    "\n",
    "## when ready add to main df\n",
    "combinded_var_dict['other'] = new_master\n",
    "\n",
    "print new_master.columns.tolist()\n",
    "print new_master.shape\n",
    "print combinded_var_dict.keys()\n",
    "\n",
    "for i in new_master.columns.tolist():\n",
    "    print i\n",
    "    print new_master[i].describe()\n",
    "    print '\\n'\n",
    "\n",
    "'''\n",
    "'alq120q', 'alq130', duplicates\n",
    "bpq100b, maybe to telling\n",
    "imq030, maybe to telling, vaccine\n",
    "'''"
   ]
  },
  {
   "cell_type": "code",
   "execution_count": 1909,
   "metadata": {
    "collapsed": false
   },
   "outputs": [
    {
     "name": "stdout",
     "output_type": "stream",
     "text": [
      "(23925, 7)\n",
      "(55128, 4) here\n",
      "(24963, 2)\n",
      "(21486, 11)\n",
      "   lbdldl  lbxsca  lbxsch  lbxsgl  lbxsir  lbxstr  SEQN  LBXIN  BPXSY1  \\\n",
      "0     136     9.3     203      78      63     115     2   4.55   106.0   \n",
      "1     168     9.5     277      95     137     341     5  13.65   122.0   \n",
      "2     127     9.8     244      81      95      57     7   9.72   130.0   \n",
      "3      80     9.4     135      87      80      42    10   6.43   152.0   \n",
      "4      77    10.2     134      88      89      72    11  11.99   110.0   \n",
      "\n",
      "   BPXDI1  BPXPLS  \n",
      "0    58.0    68.0  \n",
      "1    82.0    66.0  \n",
      "2    78.0    58.0  \n",
      "3    98.0    58.0  \n",
      "4    52.0    62.0  \n"
     ]
    }
   ],
   "source": [
    "### get kernyus dependent variables\n",
    "dependent_var_clean = pd.DataFrame() \n",
    "for files in os.listdir(directory+'cleaned_data/dependent/'):\n",
    "    if '.csv' in files:\n",
    "        temp_df = pd.read_csv(directory+'cleaned_data/dependent/'+files)\n",
    "        temp_df.drop('Unnamed: 0', axis=1, inplace=True)\n",
    "        temp_df.drop('year', axis=1, inplace=True)\n",
    "        dependent_var_clean = dependent_var_clean.append(temp_df)\n",
    "        dependent_var_clean = dependent_var_clean.reset_index(drop=True)\n",
    "\n",
    "dependent_var_clean['SEQN'] = dependent_var_clean['seqn']\n",
    "dependent_var_clean.drop('seqn', axis=1, inplace=True)\n",
    "dependent_var_clean.drop('lbxinsi', axis=1, inplace=True)\n",
    "dependent_var_clean.drop('lbxin', axis=1, inplace=True)\n",
    "## add in my cleaned column\n",
    "print dependent_var_clean.shape\n",
    "dependent_var_clean = dependent_var_clean.merge(combinded_var_dict['L10AM'], on='SEQN', how='inner')\n",
    "dependent_var_clean = dependent_var_clean.merge(combinded_var_dict['BPX'], on='SEQN', how='inner')\n",
    "# temp_bp1 = dependent_var_clean\n",
    "# temp_bp1 = temp_bp1.merge(combinded_var_dict['BPX'], on='SEQN', how='inner')\n",
    "\n",
    "print combinded_var_dict['BPX'].shape, 'here'\n",
    "print combinded_var_dict['L10AM'].shape\n",
    "print dependent_var_clean.shape\n",
    "print dependent_var_clean.head()\n",
    "# print new_master.sort('SEQN', ascending=False).head()\n",
    "# print combinded_var_dict['L10AM'].sort('SEQN', ascending=False).head()\n",
    "## when ready add to main df\n",
    "# combinded_var_dict['other'] = new_master"
   ]
  },
  {
   "cell_type": "code",
   "execution_count": null,
   "metadata": {
    "collapsed": false
   },
   "outputs": [],
   "source": [
    "\n"
   ]
  },
  {
   "cell_type": "code",
   "execution_count": 1910,
   "metadata": {
    "collapsed": false,
    "scrolled": true
   },
   "outputs": [
    {
     "name": "stdout",
     "output_type": "stream",
     "text": [
      "(82091, 39)\n"
     ]
    }
   ],
   "source": [
    "# prob can merge on SEQN since each year seems to be unique, and only merge all independent variables\n",
    "master = combinded_var_dict['ACQ']\n",
    "for df_name in combinded_var_dict: \n",
    "    if 'ACQ' not in df_name and df_name not in dep_list:\n",
    "        master = master.merge(combinded_var_dict[df_name], on='SEQN', how='outer')\n",
    "print master.shape\n",
    "# print master.describe()\n",
    "# print master['DMDHHSZA'].mean()"
   ]
  },
  {
   "cell_type": "code",
   "execution_count": 1911,
   "metadata": {
    "collapsed": false,
    "scrolled": true
   },
   "outputs": [
    {
     "name": "stdout",
     "output_type": "stream",
     "text": [
      "(21486, 40)\n",
      "(21486, 40)\n",
      "(21486, 40)\n",
      "(21486, 40)\n",
      "(21486, 40)\n",
      "(21486, 40)\n",
      "(21486, 40)\n",
      "(21486, 40)\n",
      "(21486, 40)\n",
      "(21486, 40)\n",
      "['lbdldl', 'lbxsch', 'lbxsgl', 'lbxsca', 'lbxstr', 'LBXIN', 'BPXDI1', 'BPXPLS', 'BPXSY1', 'lbxsir']\n"
     ]
    }
   ],
   "source": [
    "## merge each df with each dependent variable to now use for the model\n",
    "model_data_dict = {}\n",
    "for i in dependent_var_clean.columns.tolist():\n",
    "    if i != 'SEQN':\n",
    "        temp_dep_df = pd.DataFrame()\n",
    "#         if i == 'BPXSY1' or i == 'BPXDI1' or i == 'BPXPLS':\n",
    "#             temp_dep_df['SEQN'] = combinded_var_dict['BPX']['SEQN']\n",
    "#             temp_dep_df[i] = combinded_var_dict['BPX'][i]\n",
    "#             model_data_dict[i] = master.merge(temp_dep_df, on='SEQN', how='inner')\n",
    "#             print model_data_dict[i].shape\n",
    "#         else:\n",
    "#             temp_dep_df['SEQN'] = dependent_var_clean['SEQN']\n",
    "#             temp_dep_df[i] = dependent_var_clean[i]\n",
    "#             model_data_dict[i] = master.merge(temp_dep_df, on='SEQN', how='inner')\n",
    "#             print model_data_dict[i].shape\n",
    "        temp_dep_df['SEQN'] = dependent_var_clean['SEQN']\n",
    "        temp_dep_df[i] = dependent_var_clean[i]\n",
    "        model_data_dict[i] = master.merge(temp_dep_df, on='SEQN', how='inner')\n",
    "        print model_data_dict[i].shape\n",
    "\n",
    "# for i in dependent_variables['file']:\n",
    "#     print i\n",
    "#     var = combinded_var_dict[i].columns.tolist()\n",
    "#     print var\n",
    "#     model_data_dict[var[0]] = master.merge(combinded_var_dict[i], on='SEQN', how='inner')\n",
    "#     print model_data_dict[var[0]].shape\n",
    "print model_data_dict.keys()"
   ]
  },
  {
   "cell_type": "code",
   "execution_count": 1912,
   "metadata": {
    "collapsed": false
   },
   "outputs": [],
   "source": [
    "# model_data_dict['lbdldl']['DMDMARTL_Widowed'].describe()"
   ]
  },
  {
   "cell_type": "code",
   "execution_count": 1913,
   "metadata": {
    "collapsed": false
   },
   "outputs": [],
   "source": [
    "## get rid of outliers\n",
    "for i in model_data_dict:\n",
    "    df = model_data_dict[i]\n",
    "    for col in df.columns.tolist():\n",
    "        #keep only the ones that are within +3 to -3 standard deviations in the column\n",
    "        df[col].loc[np.abs(df[col]-df[col].mean()) > (3*df[col].std())] = np.nan\n",
    "#         df = df[np.abs(df[col]-df[col].mean())<=(3*df[col].std())] \n",
    "    model_data_dict[i] = df\n",
    "#     print df.shape()"
   ]
  },
  {
   "cell_type": "code",
   "execution_count": 1914,
   "metadata": {
    "collapsed": false
   },
   "outputs": [
    {
     "name": "stdout",
     "output_type": "stream",
     "text": [
      "lbdldl\n",
      "ACD010A 21486 21486 1.0\n",
      "ACD010B 21437 21486 0.99771944522\n",
      "SEQN 21486 21486 1.0\n",
      "HID010 7566 21486 0.352136274784\n",
      "dropped  HID010\n",
      "DMDBORN 15644 21486 0.72810201992\n",
      "DMDEDUC2 16172 21486 0.752676161221\n",
      "DMDEDUC3 5151 21486 0.239737503491\n",
      "dropped  DMDEDUC3\n",
      "DMDHHSIZ 21486 21486 1.0\n",
      "DMDHHSZA 5339 21486 0.248487387136\n",
      "dropped  DMDHHSZA\n",
      "DMDHHSZB 5394 21486 0.251047193521\n",
      "dropped  DMDHHSZB\n",
      "DMDHHSZE 5349 21486 0.248952806479\n",
      "dropped  DMDHHSZE\n",
      "DMDHSEDU 10682 21486 0.497160942009\n",
      "INDFMIN2 10310 21486 0.479847342456\n",
      "RIAGENDR 21486 21486 1.0\n",
      "RIDAGEYR 21486 21486 1.0\n",
      "RIDRETH1 21486 21486 1.0\n",
      "DMDMARTL_Missing 21486 21486 1.0\n",
      "DMDMARTL_Married 21486 21486 1.0\n",
      "DMDMARTL_Widowed 20125 21486 0.936656427441\n",
      "DMDMARTL_Divorced 19925 21486 0.927348040585\n",
      "DMDMARTL_Separated 20958 21486 0.975425858699\n",
      "DMDMARTL_Never_married 21486 21486 1.0\n",
      "DMDMARTL_Living_with_partner 20234 21486 0.941729498278\n",
      "alq120q 13102 21486 0.609792422973\n",
      "alq130 10239 21486 0.476542865121\n",
      "bmxbmi 20982 21486 0.976542865121\n",
      "bmxwaist 20820 21486 0.969003071768\n",
      "hsq520 19344 21486 0.900307176766\n",
      "paq180 8648 21486 0.402494647678\n",
      "paq670 4621 21486 0.215070278321\n",
      "dropped  paq670\n",
      "paqiaf_number 6647 21486 0.309364237178\n",
      "dropped  paqiaf_number\n",
      "paqiaf_totalmet 6652 21486 0.309596946849\n",
      "dropped  paqiaf_totalmet\n",
      "smq040 7545 21486 0.351158894164\n",
      "dropped  smq040\n",
      "whd020 18541 21486 0.862934003537\n",
      "whd110 11134 21486 0.518197896305\n",
      "whd120 13340 21486 0.620869403332\n",
      "whq150 17062 21486 0.794098482733\n",
      "OCD150 16889 21486 0.786046728102\n",
      "OCQ180 9708 21486 0.451829098017\n",
      "lbdldl 21342 21486 0.993297961463\n",
      "lbxsch\n",
      "ACD010A 21486 21486 1.0\n",
      "ACD010B 21437 21486 0.99771944522\n",
      "SEQN 21486 21486 1.0\n",
      "HID010 7566 21486 0.352136274784\n",
      "dropped  HID010\n",
      "DMDBORN 15644 21486 0.72810201992\n",
      "DMDEDUC2 16172 21486 0.752676161221\n",
      "DMDEDUC3 5151 21486 0.239737503491\n",
      "dropped  DMDEDUC3\n",
      "DMDHHSIZ 21486 21486 1.0\n",
      "DMDHHSZA 5339 21486 0.248487387136\n",
      "dropped  DMDHHSZA\n",
      "DMDHHSZB 5394 21486 0.251047193521\n",
      "dropped  DMDHHSZB\n",
      "DMDHHSZE 5349 21486 0.248952806479\n",
      "dropped  DMDHHSZE\n",
      "DMDHSEDU 10682 21486 0.497160942009\n",
      "INDFMIN2 10310 21486 0.479847342456\n",
      "RIAGENDR 21486 21486 1.0\n",
      "RIDAGEYR 21486 21486 1.0\n",
      "RIDRETH1 21486 21486 1.0\n",
      "DMDMARTL_Missing 21486 21486 1.0\n",
      "DMDMARTL_Married 21486 21486 1.0\n",
      "DMDMARTL_Widowed 20125 21486 0.936656427441\n",
      "DMDMARTL_Divorced 19925 21486 0.927348040585\n",
      "DMDMARTL_Separated 20958 21486 0.975425858699\n",
      "DMDMARTL_Never_married 21486 21486 1.0\n",
      "DMDMARTL_Living_with_partner 20234 21486 0.941729498278\n",
      "alq120q 13102 21486 0.609792422973\n",
      "alq130 10239 21486 0.476542865121\n",
      "bmxbmi 20982 21486 0.976542865121\n",
      "bmxwaist 20820 21486 0.969003071768\n",
      "hsq520 19344 21486 0.900307176766\n",
      "paq180 8648 21486 0.402494647678\n",
      "paq670 4621 21486 0.215070278321\n",
      "dropped  paq670\n",
      "paqiaf_number 6647 21486 0.309364237178\n",
      "dropped  paqiaf_number\n",
      "paqiaf_totalmet 6652 21486 0.309596946849\n",
      "dropped  paqiaf_totalmet\n",
      "smq040 7545 21486 0.351158894164\n",
      "dropped  smq040\n",
      "whd020 18541 21486 0.862934003537\n",
      "whd110 11134 21486 0.518197896305\n",
      "whd120 13340 21486 0.620869403332\n",
      "whq150 17062 21486 0.794098482733\n",
      "OCD150 16889 21486 0.786046728102\n",
      "OCQ180 9708 21486 0.451829098017\n",
      "lbxsch 21358 21486 0.994042632412\n",
      "lbxsgl\n",
      "ACD010A 21486 21486 1.0\n",
      "ACD010B 21437 21486 0.99771944522\n",
      "SEQN 21486 21486 1.0\n",
      "HID010 7566 21486 0.352136274784\n",
      "dropped  HID010\n",
      "DMDBORN 15644 21486 0.72810201992\n",
      "DMDEDUC2 16172 21486 0.752676161221\n",
      "DMDEDUC3 5151 21486 0.239737503491\n",
      "dropped  DMDEDUC3\n",
      "DMDHHSIZ 21486 21486 1.0\n",
      "DMDHHSZA 5339 21486 0.248487387136\n",
      "dropped  DMDHHSZA\n",
      "DMDHHSZB 5394 21486 0.251047193521\n",
      "dropped  DMDHHSZB\n",
      "DMDHHSZE 5349 21486 0.248952806479\n",
      "dropped  DMDHHSZE\n",
      "DMDHSEDU 10682 21486 0.497160942009\n",
      "INDFMIN2 10310 21486 0.479847342456\n",
      "RIAGENDR 21486 21486 1.0\n",
      "RIDAGEYR 21486 21486 1.0\n",
      "RIDRETH1 21486 21486 1.0\n",
      "DMDMARTL_Missing 21486 21486 1.0\n",
      "DMDMARTL_Married 21486 21486 1.0\n",
      "DMDMARTL_Widowed 20125 21486 0.936656427441\n",
      "DMDMARTL_Divorced 19925 21486 0.927348040585\n",
      "DMDMARTL_Separated 20958 21486 0.975425858699\n",
      "DMDMARTL_Never_married 21486 21486 1.0\n",
      "DMDMARTL_Living_with_partner 20234 21486 0.941729498278\n",
      "alq120q 13102 21486 0.609792422973\n",
      "alq130 10239 21486 0.476542865121\n",
      "bmxbmi 20982 21486 0.976542865121\n",
      "bmxwaist 20820 21486 0.969003071768\n",
      "hsq520 19344 21486 0.900307176766\n",
      "paq180 8648 21486 0.402494647678\n",
      "paq670 4621 21486 0.215070278321\n",
      "dropped  paq670\n",
      "paqiaf_number 6647 21486 0.309364237178\n",
      "dropped  paqiaf_number\n",
      "paqiaf_totalmet 6652 21486 0.309596946849\n",
      "dropped  paqiaf_totalmet\n",
      "smq040 7545 21486 0.351158894164\n",
      "dropped  smq040\n",
      "whd020 18541 21486 0.862934003537\n",
      "whd110 11134 21486 0.518197896305\n",
      "whd120 13340 21486 0.620869403332\n",
      "whq150 17062 21486 0.794098482733\n",
      "OCD150 16889 21486 0.786046728102\n",
      "OCQ180 9708 21486 0.451829098017\n",
      "lbxsgl 21038 21486 0.979149213441\n",
      "lbxsca\n",
      "ACD010A 21486 21486 1.0\n",
      "ACD010B 21437 21486 0.99771944522\n",
      "SEQN 21486 21486 1.0\n",
      "HID010 7566 21486 0.352136274784\n",
      "dropped  HID010\n",
      "DMDBORN 15644 21486 0.72810201992\n",
      "DMDEDUC2 16172 21486 0.752676161221\n",
      "DMDEDUC3 5151 21486 0.239737503491\n",
      "dropped  DMDEDUC3\n",
      "DMDHHSIZ 21486 21486 1.0\n",
      "DMDHHSZA 5339 21486 0.248487387136\n",
      "dropped  DMDHHSZA\n",
      "DMDHHSZB 5394 21486 0.251047193521\n",
      "dropped  DMDHHSZB\n",
      "DMDHHSZE 5349 21486 0.248952806479\n",
      "dropped  DMDHHSZE\n",
      "DMDHSEDU 10682 21486 0.497160942009\n",
      "INDFMIN2 10310 21486 0.479847342456\n",
      "RIAGENDR 21486 21486 1.0\n",
      "RIDAGEYR 21486 21486 1.0\n",
      "RIDRETH1 21486 21486 1.0\n",
      "DMDMARTL_Missing 21486 21486 1.0\n",
      "DMDMARTL_Married 21486 21486 1.0\n",
      "DMDMARTL_Widowed 20125 21486 0.936656427441\n",
      "DMDMARTL_Divorced 19925 21486 0.927348040585\n",
      "DMDMARTL_Separated 20958 21486 0.975425858699\n",
      "DMDMARTL_Never_married 21486 21486 1.0\n",
      "DMDMARTL_Living_with_partner 20234 21486 0.941729498278\n",
      "alq120q 13102 21486 0.609792422973\n",
      "alq130 10239 21486 0.476542865121\n",
      "bmxbmi 20982 21486 0.976542865121\n",
      "bmxwaist 20820 21486 0.969003071768\n",
      "hsq520 19344 21486 0.900307176766\n",
      "paq180 8648 21486 0.402494647678\n",
      "paq670 4621 21486 0.215070278321\n",
      "dropped  paq670\n",
      "paqiaf_number 6647 21486 0.309364237178\n",
      "dropped  paqiaf_number\n",
      "paqiaf_totalmet 6652 21486 0.309596946849\n",
      "dropped  paqiaf_totalmet\n",
      "smq040 7545 21486 0.351158894164\n",
      "dropped  smq040\n",
      "whd020 18541 21486 0.862934003537\n",
      "whd110 11134 21486 0.518197896305\n",
      "whd120 13340 21486 0.620869403332\n",
      "whq150 17062 21486 0.794098482733\n",
      "OCD150 16889 21486 0.786046728102\n",
      "OCQ180 9708 21486 0.451829098017\n",
      "lbxsca 21340 21486 0.993204877595\n",
      "lbxstr\n",
      "ACD010A 21486 21486 1.0\n",
      "ACD010B 21437 21486 0.99771944522\n",
      "SEQN 21486 21486 1.0\n",
      "HID010 7566 21486 0.352136274784\n",
      "dropped  HID010\n",
      "DMDBORN 15644 21486 0.72810201992\n",
      "DMDEDUC2 16172 21486 0.752676161221\n",
      "DMDEDUC3 5151 21486 0.239737503491\n",
      "dropped  DMDEDUC3\n",
      "DMDHHSIZ 21486 21486 1.0\n",
      "DMDHHSZA 5339 21486 0.248487387136\n",
      "dropped  DMDHHSZA\n",
      "DMDHHSZB 5394 21486 0.251047193521\n",
      "dropped  DMDHHSZB\n",
      "DMDHHSZE 5349 21486 0.248952806479\n",
      "dropped  DMDHHSZE\n",
      "DMDHSEDU 10682 21486 0.497160942009\n",
      "INDFMIN2 10310 21486 0.479847342456\n",
      "RIAGENDR 21486 21486 1.0\n",
      "RIDAGEYR 21486 21486 1.0\n",
      "RIDRETH1 21486 21486 1.0\n",
      "DMDMARTL_Missing 21486 21486 1.0\n",
      "DMDMARTL_Married 21486 21486 1.0\n",
      "DMDMARTL_Widowed 20125 21486 0.936656427441\n",
      "DMDMARTL_Divorced 19925 21486 0.927348040585\n",
      "DMDMARTL_Separated 20958 21486 0.975425858699\n",
      "DMDMARTL_Never_married 21486 21486 1.0\n",
      "DMDMARTL_Living_with_partner 20234 21486 0.941729498278\n",
      "alq120q 13102 21486 0.609792422973\n",
      "alq130 10239 21486 0.476542865121\n",
      "bmxbmi 20982 21486 0.976542865121\n",
      "bmxwaist 20820 21486 0.969003071768\n",
      "hsq520 19344 21486 0.900307176766\n",
      "paq180 8648 21486 0.402494647678\n",
      "paq670 4621 21486 0.215070278321\n",
      "dropped  paq670\n",
      "paqiaf_number 6647 21486 0.309364237178\n",
      "dropped  paqiaf_number\n",
      "paqiaf_totalmet 6652 21486 0.309596946849\n",
      "dropped  paqiaf_totalmet\n",
      "smq040 7545 21486 0.351158894164\n",
      "dropped  smq040\n",
      "whd020 18541 21486 0.862934003537\n",
      "whd110 11134 21486 0.518197896305\n",
      "whd120 13340 21486 0.620869403332\n",
      "whq150 17062 21486 0.794098482733\n",
      "OCD150 16889 21486 0.786046728102\n",
      "OCQ180 9708 21486 0.451829098017\n",
      "lbxstr 21115 21486 0.982732942381\n",
      "LBXIN\n",
      "ACD010A 21486 21486 1.0\n",
      "ACD010B 21437 21486 0.99771944522\n",
      "SEQN 21486 21486 1.0\n",
      "HID010 7566 21486 0.352136274784\n",
      "dropped  HID010\n",
      "DMDBORN 15644 21486 0.72810201992\n",
      "DMDEDUC2 16172 21486 0.752676161221\n",
      "DMDEDUC3 5151 21486 0.239737503491\n",
      "dropped  DMDEDUC3\n",
      "DMDHHSIZ 21486 21486 1.0\n",
      "DMDHHSZA 5339 21486 0.248487387136\n",
      "dropped  DMDHHSZA\n",
      "DMDHHSZB 5394 21486 0.251047193521\n",
      "dropped  DMDHHSZB\n",
      "DMDHHSZE 5349 21486 0.248952806479\n",
      "dropped  DMDHHSZE\n",
      "DMDHSEDU 10682 21486 0.497160942009\n",
      "INDFMIN2 10310 21486 0.479847342456\n",
      "RIAGENDR 21486 21486 1.0\n",
      "RIDAGEYR 21486 21486 1.0\n",
      "RIDRETH1 21486 21486 1.0\n",
      "DMDMARTL_Missing 21486 21486 1.0\n",
      "DMDMARTL_Married 21486 21486 1.0\n",
      "DMDMARTL_Widowed 20125 21486 0.936656427441\n",
      "DMDMARTL_Divorced 19925 21486 0.927348040585\n",
      "DMDMARTL_Separated 20958 21486 0.975425858699\n",
      "DMDMARTL_Never_married 21486 21486 1.0\n",
      "DMDMARTL_Living_with_partner 20234 21486 0.941729498278\n",
      "alq120q 13102 21486 0.609792422973\n",
      "alq130 10239 21486 0.476542865121\n",
      "bmxbmi 20982 21486 0.976542865121\n",
      "bmxwaist 20820 21486 0.969003071768\n",
      "hsq520 19344 21486 0.900307176766\n",
      "paq180 8648 21486 0.402494647678\n",
      "paq670 4621 21486 0.215070278321\n",
      "dropped  paq670\n",
      "paqiaf_number 6647 21486 0.309364237178\n",
      "dropped  paqiaf_number\n",
      "paqiaf_totalmet 6652 21486 0.309596946849\n",
      "dropped  paqiaf_totalmet\n",
      "smq040 7545 21486 0.351158894164\n",
      "dropped  smq040\n",
      "whd020 18541 21486 0.862934003537\n",
      "whd110 11134 21486 0.518197896305\n",
      "whd120 13340 21486 0.620869403332\n",
      "whq150 17062 21486 0.794098482733\n",
      "OCD150 16889 21486 0.786046728102\n",
      "OCQ180 9708 21486 0.451829098017\n",
      "LBXIN 21181 21486 0.985804710044\n",
      "BPXDI1\n",
      "ACD010A 21486 21486 1.0\n",
      "ACD010B 21437 21486 0.99771944522\n",
      "SEQN 21486 21486 1.0\n",
      "HID010 7566 21486 0.352136274784\n",
      "dropped  HID010\n",
      "DMDBORN 15644 21486 0.72810201992\n",
      "DMDEDUC2 16172 21486 0.752676161221\n",
      "DMDEDUC3 5151 21486 0.239737503491\n",
      "dropped  DMDEDUC3\n",
      "DMDHHSIZ 21486 21486 1.0\n",
      "DMDHHSZA 5339 21486 0.248487387136\n",
      "dropped  DMDHHSZA\n",
      "DMDHHSZB 5394 21486 0.251047193521\n",
      "dropped  DMDHHSZB\n",
      "DMDHHSZE 5349 21486 0.248952806479\n",
      "dropped  DMDHHSZE\n",
      "DMDHSEDU 10682 21486 0.497160942009\n",
      "INDFMIN2 10310 21486 0.479847342456\n",
      "RIAGENDR 21486 21486 1.0\n",
      "RIDAGEYR 21486 21486 1.0\n",
      "RIDRETH1 21486 21486 1.0\n",
      "DMDMARTL_Missing 21486 21486 1.0\n",
      "DMDMARTL_Married 21486 21486 1.0\n",
      "DMDMARTL_Widowed 20125 21486 0.936656427441\n",
      "DMDMARTL_Divorced 19925 21486 0.927348040585\n",
      "DMDMARTL_Separated 20958 21486 0.975425858699\n",
      "DMDMARTL_Never_married 21486 21486 1.0\n",
      "DMDMARTL_Living_with_partner 20234 21486 0.941729498278\n",
      "alq120q 13102 21486 0.609792422973\n",
      "alq130 10239 21486 0.476542865121\n",
      "bmxbmi 20982 21486 0.976542865121\n",
      "bmxwaist 20820 21486 0.969003071768\n",
      "hsq520 19344 21486 0.900307176766\n",
      "paq180 8648 21486 0.402494647678\n",
      "paq670 4621 21486 0.215070278321\n",
      "dropped  paq670\n",
      "paqiaf_number 6647 21486 0.309364237178\n",
      "dropped  paqiaf_number\n",
      "paqiaf_totalmet 6652 21486 0.309596946849\n",
      "dropped  paqiaf_totalmet\n",
      "smq040 7545 21486 0.351158894164\n",
      "dropped  smq040\n",
      "whd020 18541 21486 0.862934003537\n",
      "whd110 11134 21486 0.518197896305\n",
      "whd120 13340 21486 0.620869403332\n",
      "whq150 17062 21486 0.794098482733\n",
      "OCD150 16889 21486 0.786046728102\n",
      "OCQ180 9708 21486 0.451829098017\n",
      "BPXDI1 21259 21486 0.989434980918\n",
      "BPXPLS\n",
      "ACD010A 21486 21486 1.0\n",
      "ACD010B 21437 21486 0.99771944522\n",
      "SEQN 21486 21486 1.0\n",
      "HID010 7566 21486 0.352136274784\n",
      "dropped  HID010\n",
      "DMDBORN 15644 21486 0.72810201992\n",
      "DMDEDUC2 16172 21486 0.752676161221\n",
      "DMDEDUC3 5151 21486 0.239737503491\n",
      "dropped  DMDEDUC3\n",
      "DMDHHSIZ 21486 21486 1.0\n",
      "DMDHHSZA 5339 21486 0.248487387136\n",
      "dropped  DMDHHSZA\n",
      "DMDHHSZB 5394 21486 0.251047193521\n",
      "dropped  DMDHHSZB\n",
      "DMDHHSZE 5349 21486 0.248952806479\n",
      "dropped  DMDHHSZE\n",
      "DMDHSEDU 10682 21486 0.497160942009\n",
      "INDFMIN2 10310 21486 0.479847342456\n",
      "RIAGENDR 21486 21486 1.0\n",
      "RIDAGEYR 21486 21486 1.0\n",
      "RIDRETH1 21486 21486 1.0\n",
      "DMDMARTL_Missing 21486 21486 1.0\n",
      "DMDMARTL_Married 21486 21486 1.0\n",
      "DMDMARTL_Widowed 20125 21486 0.936656427441\n",
      "DMDMARTL_Divorced 19925 21486 0.927348040585\n",
      "DMDMARTL_Separated 20958 21486 0.975425858699\n",
      "DMDMARTL_Never_married 21486 21486 1.0\n",
      "DMDMARTL_Living_with_partner 20234 21486 0.941729498278\n",
      "alq120q 13102 21486 0.609792422973\n",
      "alq130 10239 21486 0.476542865121\n",
      "bmxbmi 20982 21486 0.976542865121\n",
      "bmxwaist 20820 21486 0.969003071768\n",
      "hsq520 19344 21486 0.900307176766\n",
      "paq180 8648 21486 0.402494647678\n",
      "paq670 4621 21486 0.215070278321\n",
      "dropped  paq670\n",
      "paqiaf_number 6647 21486 0.309364237178\n",
      "dropped  paqiaf_number\n",
      "paqiaf_totalmet 6652 21486 0.309596946849\n",
      "dropped  paqiaf_totalmet\n",
      "smq040 7545 21486 0.351158894164\n",
      "dropped  smq040\n",
      "whd020 18541 21486 0.862934003537\n",
      "whd110 11134 21486 0.518197896305\n",
      "whd120 13340 21486 0.620869403332\n",
      "whq150 17062 21486 0.794098482733\n",
      "OCD150 16889 21486 0.786046728102\n",
      "OCQ180 9708 21486 0.451829098017\n",
      "BPXPLS 21379 21486 0.995020013032\n",
      "BPXSY1\n",
      "ACD010A 21486 21486 1.0\n",
      "ACD010B 21437 21486 0.99771944522\n",
      "SEQN 21486 21486 1.0\n",
      "HID010 7566 21486 0.352136274784\n",
      "dropped  HID010\n",
      "DMDBORN 15644 21486 0.72810201992\n",
      "DMDEDUC2 16172 21486 0.752676161221\n",
      "DMDEDUC3 5151 21486 0.239737503491\n",
      "dropped  DMDEDUC3\n",
      "DMDHHSIZ 21486 21486 1.0\n",
      "DMDHHSZA 5339 21486 0.248487387136\n",
      "dropped  DMDHHSZA\n",
      "DMDHHSZB 5394 21486 0.251047193521\n",
      "dropped  DMDHHSZB\n",
      "DMDHHSZE 5349 21486 0.248952806479\n",
      "dropped  DMDHHSZE\n",
      "DMDHSEDU 10682 21486 0.497160942009\n",
      "INDFMIN2 10310 21486 0.479847342456\n",
      "RIAGENDR 21486 21486 1.0\n",
      "RIDAGEYR 21486 21486 1.0\n",
      "RIDRETH1 21486 21486 1.0\n",
      "DMDMARTL_Missing 21486 21486 1.0\n",
      "DMDMARTL_Married 21486 21486 1.0\n",
      "DMDMARTL_Widowed 20125 21486 0.936656427441\n",
      "DMDMARTL_Divorced 19925 21486 0.927348040585\n",
      "DMDMARTL_Separated 20958 21486 0.975425858699\n",
      "DMDMARTL_Never_married 21486 21486 1.0\n",
      "DMDMARTL_Living_with_partner 20234 21486 0.941729498278\n",
      "alq120q 13102 21486 0.609792422973\n",
      "alq130 10239 21486 0.476542865121\n",
      "bmxbmi 20982 21486 0.976542865121\n",
      "bmxwaist 20820 21486 0.969003071768\n",
      "hsq520 19344 21486 0.900307176766\n",
      "paq180 8648 21486 0.402494647678\n",
      "paq670 4621 21486 0.215070278321\n",
      "dropped  paq670\n",
      "paqiaf_number 6647 21486 0.309364237178\n",
      "dropped  paqiaf_number\n",
      "paqiaf_totalmet 6652 21486 0.309596946849\n",
      "dropped  paqiaf_totalmet\n",
      "smq040 7545 21486 0.351158894164\n",
      "dropped  smq040\n",
      "whd020 18541 21486 0.862934003537\n",
      "whd110 11134 21486 0.518197896305\n",
      "whd120 13340 21486 0.620869403332\n",
      "whq150 17062 21486 0.794098482733\n",
      "OCD150 16889 21486 0.786046728102\n",
      "OCQ180 9708 21486 0.451829098017\n",
      "BPXSY1 21178 21486 0.985665084241\n",
      "lbxsir\n",
      "ACD010A 21486 21486 1.0\n",
      "ACD010B 21437 21486 0.99771944522\n",
      "SEQN 21486 21486 1.0\n",
      "HID010 7566 21486 0.352136274784\n",
      "dropped  HID010\n",
      "DMDBORN 15644 21486 0.72810201992\n",
      "DMDEDUC2 16172 21486 0.752676161221\n",
      "DMDEDUC3 5151 21486 0.239737503491\n",
      "dropped  DMDEDUC3\n",
      "DMDHHSIZ 21486 21486 1.0\n",
      "DMDHHSZA 5339 21486 0.248487387136\n",
      "dropped  DMDHHSZA\n",
      "DMDHHSZB 5394 21486 0.251047193521\n",
      "dropped  DMDHHSZB\n",
      "DMDHHSZE 5349 21486 0.248952806479\n",
      "dropped  DMDHHSZE\n",
      "DMDHSEDU 10682 21486 0.497160942009\n",
      "INDFMIN2 10310 21486 0.479847342456\n",
      "RIAGENDR 21486 21486 1.0\n",
      "RIDAGEYR 21486 21486 1.0\n",
      "RIDRETH1 21486 21486 1.0\n",
      "DMDMARTL_Missing 21486 21486 1.0\n",
      "DMDMARTL_Married 21486 21486 1.0\n",
      "DMDMARTL_Widowed 20125 21486 0.936656427441\n",
      "DMDMARTL_Divorced 19925 21486 0.927348040585\n",
      "DMDMARTL_Separated 20958 21486 0.975425858699\n",
      "DMDMARTL_Never_married 21486 21486 1.0\n",
      "DMDMARTL_Living_with_partner 20234 21486 0.941729498278\n",
      "alq120q 13102 21486 0.609792422973\n",
      "alq130 10239 21486 0.476542865121\n",
      "bmxbmi 20982 21486 0.976542865121\n",
      "bmxwaist 20820 21486 0.969003071768\n",
      "hsq520 19344 21486 0.900307176766\n",
      "paq180 8648 21486 0.402494647678\n",
      "paq670 4621 21486 0.215070278321\n",
      "dropped  paq670\n",
      "paqiaf_number 6647 21486 0.309364237178\n",
      "dropped  paqiaf_number\n",
      "paqiaf_totalmet 6652 21486 0.309596946849\n",
      "dropped  paqiaf_totalmet\n",
      "smq040 7545 21486 0.351158894164\n",
      "dropped  smq040\n",
      "whd020 18541 21486 0.862934003537\n",
      "whd110 11134 21486 0.518197896305\n",
      "whd120 13340 21486 0.620869403332\n",
      "whq150 17062 21486 0.794098482733\n",
      "OCD150 16889 21486 0.786046728102\n",
      "OCQ180 9708 21486 0.451829098017\n",
      "lbxsir 21270 21486 0.989946942195\n"
     ]
    }
   ],
   "source": [
    "## fill nan, using mean of entire column for now\n",
    "\n",
    "for i in model_data_dict:\n",
    "    print i\n",
    "    col_length = []\n",
    "    df = model_data_dict[i]\n",
    "    df.reset_index(drop=True, inplace=True)\n",
    "#     imp = Imputer(missing_values='NaN', strategy='mean', axis=0, verbose=0, copy=True)\n",
    "#     imp.fit_transform(X)\n",
    "    for col in model_data_dict[i]:\n",
    "        perc = float(len(df[col].dropna()))/len(df)\n",
    "        print col, len(df[col].dropna()), len(df), perc\n",
    "        na_val = np.mean(df[col])\n",
    "        \n",
    "        ## find ~2000 rows with the least na's\n",
    "#         row_count = df.count(axis=1)\n",
    "#         row_count.sort_values(ascending=False, inplace=True)\n",
    "#         row_count = row_count.reset_index()\n",
    "#         ## get only top 2000 rows\n",
    "#         row_index = list(row_count['index'][:4000])\n",
    "        \n",
    "        ## threshold to get rid of columns if missing to much data\n",
    "        if np.isnan(na_val) or perc <= .4:\n",
    "            print \"dropped \", col\n",
    "            df.drop(col, axis=1, inplace=True)\n",
    "        else:\n",
    "            df[col].fillna(na_val, inplace=True)\n",
    "        ## now after replacement and threshold keep only top 2000 rows with least NA's calculated abovee\n",
    "#     df = df.loc[row_index]\n",
    "#     df = df.sample(n=2000)\n",
    "        \n",
    "    df.reset_index(drop=True, inplace=True)\n",
    "    model_data_dict[i] = df\n",
    "\n",
    "    "
   ]
  },
  {
   "cell_type": "code",
   "execution_count": 1915,
   "metadata": {
    "collapsed": false
   },
   "outputs": [],
   "source": [
    "# temp = pd.DataFrame({'a':[1,2,3,4,5,np.nan,6], 'b':[2,3,4,6,np.nan,np.nan,9]})\n",
    "# a = temp.count(axis=1)\n",
    "# print a.sort_values(ascending=False, inplace=True)\n",
    "# print a\n",
    "# b = a.reset_index()\n",
    "# k = list(b['index'][:3])\n",
    "# print k\n",
    "# print temp.loc[k]\n",
    "\n"
   ]
  },
  {
   "cell_type": "code",
   "execution_count": 1916,
   "metadata": {
    "collapsed": false,
    "scrolled": true
   },
   "outputs": [
    {
     "name": "stdout",
     "output_type": "stream",
     "text": [
      "['lbdldl', 'lbxsch', 'lbxsgl', 'lbxsca', 'lbxstr', 'LBXIN', 'BPXDI1', 'BPXPLS', 'BPXSY1', 'lbxsir']\n",
      "lbdldl\n",
      "*********************\n",
      "[('ACD010A', 'DMDBORN', 0.48940780797516448), ('ACD010A', 'DMDEDUC2', 0.23565084101388109), ('ACD010A', 'DMDHHSIZ', -0.26548654255472803), ('ACD010A', 'DMDHSEDU', 0.23917285579492448), ('ACD010A', 'RIDRETH1', 0.64585869293619291), ('DMDBORN', 'ACD010A', 0.48940780797516448), ('DMDEDUC2', 'ACD010A', 0.23565084101388109), ('DMDEDUC2', 'DMDHSEDU', 0.47665724667575321), ('DMDEDUC2', 'INDFMIN2', 0.26516757841584748), ('DMDEDUC2', 'RIDRETH1', 0.24866269046246328), ('DMDHHSIZ', 'ACD010A', -0.26548654255472803), ('DMDHHSIZ', 'RIDAGEYR', -0.47135347448408693), ('DMDHHSIZ', 'DMDMARTL_Missing', 0.24161915309470589), ('DMDHHSIZ', 'whq150', -0.25863935104573132), ('DMDHSEDU', 'ACD010A', 0.23917285579492448), ('DMDHSEDU', 'DMDEDUC2', 0.47665724667575321), ('DMDHSEDU', 'INDFMIN2', 0.26667745009413135), ('DMDHSEDU', 'RIDRETH1', 0.25863768066327847), ('INDFMIN2', 'DMDEDUC2', 0.26516757841584748), ('INDFMIN2', 'DMDHSEDU', 0.26667745009413135), ('INDFMIN2', 'DMDMARTL_Married', 0.20170637949962578), ('RIAGENDR', 'whd020', -0.30294204130059615), ('RIAGENDR', 'whd110', -0.30353433061509399), ('RIAGENDR', 'whd120', -0.40068351546369924), ('RIDAGEYR', 'DMDHHSIZ', -0.47135347448408693), ('RIDAGEYR', 'DMDMARTL_Missing', -0.46426936074523673), ('RIDAGEYR', 'DMDMARTL_Married', 0.39890133891633534), ('RIDAGEYR', 'DMDMARTL_Never_married', -0.38416953074554977), ('RIDAGEYR', 'bmxbmi', 0.24692772272050642), ('RIDAGEYR', 'bmxwaist', 0.40188864372962291), ('RIDAGEYR', 'whq150', 0.63448660320648365), ('RIDAGEYR', 'OCD150', -0.21653152807301776), ('RIDAGEYR', 'lbdldl', 0.25235890880561768), ('RIDRETH1', 'ACD010A', 0.64585869293619291), ('RIDRETH1', 'DMDEDUC2', 0.24866269046246328), ('RIDRETH1', 'DMDHSEDU', 0.25863768066327847), ('DMDMARTL_Missing', 'DMDHHSIZ', 0.24161915309470589), ('DMDMARTL_Missing', 'RIDAGEYR', -0.46426936074523673), ('DMDMARTL_Missing', 'DMDMARTL_Married', -0.33773767050936948), ('DMDMARTL_Missing', 'DMDMARTL_Never_married', -0.22441350239377716), ('DMDMARTL_Missing', 'bmxbmi', -0.2279179233263878), ('DMDMARTL_Missing', 'bmxwaist', -0.3007809958235293), ('DMDMARTL_Missing', 'lbdldl', -0.22109753419648676), ('DMDMARTL_Married', 'INDFMIN2', 0.20170637949962578), ('DMDMARTL_Married', 'RIDAGEYR', 0.39890133891633534), ('DMDMARTL_Married', 'DMDMARTL_Missing', -0.33773767050936948), ('DMDMARTL_Married', 'DMDMARTL_Never_married', -0.45465860822017751), ('DMDMARTL_Married', 'bmxwaist', 0.24067217349498465), ('DMDMARTL_Married', 'whq150', 0.20202242618630248), ('DMDMARTL_Never_married', 'RIDAGEYR', -0.38416953074554977), ('DMDMARTL_Never_married', 'DMDMARTL_Missing', -0.22441350239377716), ('DMDMARTL_Never_married', 'DMDMARTL_Married', -0.45465860822017751), ('DMDMARTL_Never_married', 'whq150', -0.30013679037660385), ('bmxbmi', 'RIDAGEYR', 0.24692772272050642), ('bmxbmi', 'DMDMARTL_Missing', -0.2279179233263878), ('bmxbmi', 'bmxwaist', 0.86631376386689207), ('bmxbmi', 'whd020', 0.67036441647439382), ('bmxbmi', 'whd110', 0.35837480757983192), ('bmxbmi', 'whd120', 0.26952152019711689), ('bmxbmi', 'whq150', 0.20350503569004397), ('bmxwaist', 'RIDAGEYR', 0.40188864372962291), ('bmxwaist', 'DMDMARTL_Missing', -0.3007809958235293), ('bmxwaist', 'DMDMARTL_Married', 0.24067217349498465), ('bmxwaist', 'bmxbmi', 0.86631376386689207), ('bmxwaist', 'whd020', 0.68806060054627005), ('bmxwaist', 'whd110', 0.40248324081773235), ('bmxwaist', 'whd120', 0.31376770906224261), ('bmxwaist', 'whq150', 0.28649157928284136), ('bmxwaist', 'lbdldl', 0.22575190965968384), ('whd020', 'RIAGENDR', -0.30294204130059615), ('whd020', 'bmxbmi', 0.67036441647439382), ('whd020', 'bmxwaist', 0.68806060054627005), ('whd020', 'whd110', 0.57432293820106395), ('whd020', 'whd120', 0.54828748762929846), ('whd110', 'RIAGENDR', -0.30353433061509399), ('whd110', 'bmxbmi', 0.35837480757983192), ('whd110', 'bmxwaist', 0.40248324081773235), ('whd110', 'whd020', 0.57432293820106395), ('whd110', 'whd120', 0.62270124912793146), ('whd120', 'RIAGENDR', -0.40068351546369924), ('whd120', 'bmxbmi', 0.26952152019711689), ('whd120', 'bmxwaist', 0.31376770906224261), ('whd120', 'whd020', 0.54828748762929846), ('whd120', 'whd110', 0.62270124912793146), ('whq150', 'DMDHHSIZ', -0.25863935104573132), ('whq150', 'RIDAGEYR', 0.63448660320648365), ('whq150', 'DMDMARTL_Married', 0.20202242618630248), ('whq150', 'DMDMARTL_Never_married', -0.30013679037660385), ('whq150', 'bmxbmi', 0.20350503569004397), ('whq150', 'bmxwaist', 0.28649157928284136), ('whq150', 'OCD150', -0.23104756830883677), ('OCD150', 'RIDAGEYR', -0.21653152807301776), ('OCD150', 'whq150', -0.23104756830883677), ('lbdldl', 'RIDAGEYR', 0.25235890880561768), ('lbdldl', 'DMDMARTL_Missing', -0.22109753419648676), ('lbdldl', 'bmxwaist', 0.22575190965968384)]\n"
     ]
    }
   ],
   "source": [
    "## find out which variables correlate with the dependent var\n",
    "\n",
    "## general features to remove for all\n",
    "# features_to_remove = ['ACD010B', 'DMDMARTL_Widowed', 'DMDMARTL_Divorced', 'DMDMARTL_Separated', \\\n",
    "#                       'DMDMARTL_Living_with_partner', 'DMDMARTL_Missing']\n",
    "\n",
    "print model_data_dict.keys()\n",
    "\n",
    "for i in model_data_dict:\n",
    "    print i\n",
    "#     try:\n",
    "#         model_data_dict[i] = model_data_dict[i].drop(features_to_remove, axis=1)\n",
    "#     except:\n",
    "#         pass\n",
    "    df = model_data_dict[i]\n",
    "    a = df.corr()\n",
    "#     print a\n",
    "#     b = a[i]\n",
    "#     print b.sort(ascending=True, kind='quicksort', na_position='last', inplace=False)\n",
    "    high = []\n",
    "    for col in df.columns.tolist():\n",
    "        b = a[col]\n",
    "        b = b.reset_index()\n",
    "        for count,x in enumerate(b[col]):\n",
    "            if abs(x) > .2 and abs(x) != 1:\n",
    "                high.append((col,b['index'][count],x))\n",
    "    print '*********************'\n",
    "    break\n",
    "print high\n",
    "# plt.scatter(model_data_dict['lbdldl']['RIAGENDR'],model_data_dict['lbdldl']['whd120'])\n",
    "# a = model_data_dict['lbdldl']['lbdldl']\n",
    "# b = model_data_dict['lbxsch']['lbxsch']\n",
    "# c = model_data_dict['lbxstr']['lbxstr']\n",
    "# print '\\n'\n",
    "# print np.corrcoef(a,b)\n",
    "# print np.corrcoef(a,c)\n",
    "# print np.corrcoef(b,c)"
   ]
  },
  {
   "cell_type": "code",
   "execution_count": 1917,
   "metadata": {
    "collapsed": false,
    "scrolled": true
   },
   "outputs": [
    {
     "name": "stdout",
     "output_type": "stream",
     "text": [
      "['lbdldl', 'lbxsch', 'lbxsgl', 'lbxsca', 'lbxstr', 'LBXIN', 'BPXDI1', 'BPXPLS', 'BPXSY1', 'lbxsir']\n",
      "lbdldl\n",
      "(21486, 31)\n",
      "lbxsch\n",
      "(21486, 31)\n",
      "lbxsgl\n",
      "(21486, 31)\n",
      "lbxsca\n",
      "(21486, 31)\n",
      "lbxstr\n",
      "(21486, 31)\n",
      "LBXIN\n",
      "(21486, 31)\n",
      "BPXDI1\n",
      "(21486, 31)\n",
      "BPXPLS\n",
      "(21486, 31)\n",
      "BPXSY1\n",
      "(21486, 31)\n",
      "lbxsir\n",
      "(21486, 31)\n"
     ]
    }
   ],
   "source": [
    "## correlations\n",
    "'''\n",
    "[('RIDAGEYR', 'whq150', 0.63273907024842002), ('bmxbmi', 'bmxwaist', 0.86370485543272124), \n",
    "('bmxbmi', 'whd020', 0.66453481733176267), ('bmxwaist', 'bmxbmi', 0.86370485543272124), \n",
    "('bmxwaist', 'whd020', 0.67986006498703533), ('whd020', 'bmxbmi', 0.66453481733176267), \n",
    "('whd020', 'bmxwaist', 0.67986006498703533), ('whd020', 'whd110', 0.56738619317411143), \n",
    "('whd020', 'whd120', 0.542019736144144), ('whd110', 'whd020', 0.56738619317411143), \n",
    "('whd110', 'whd120', 0.6215479165156752), ('whd120', 'whd020', 0.542019736144144), \n",
    "('whd120', 'whd110', 0.6215479165156752), ('whq150', 'RIDAGEYR', 0.63273907024842002)]\n",
    "'''\n",
    "## variables to remove\n",
    "## after the 3rd row is experimentation\n",
    "features_to_remove = ['DMDEDUC3', 'ACD010B', 'DMDMARTL_Widowed', 'DMDMARTL_Missing', \n",
    "                      'DMDMARTL_Divorced','DMDMARTL_Separated', 'DMDMARTL_Living_with_partner', 'hsq520', \n",
    "                      'bmxwaist', 'whd020', 'whq150', 'whd110', ## > 50% correlation with other variables\n",
    "                     'DMDMARTL_Never_married', 'DMDHSEDU', 'DMDHHSIZ', 'DMDBORN'  ## > 40% correlation\n",
    "                     ]\n",
    "\n",
    "print model_data_dict.keys()\n",
    "\n",
    "for i in model_data_dict:\n",
    "    print i\n",
    "    print model_data_dict[i].shape\n",
    "#     print model_data_dict[i].columns.tolist()\n",
    "    for var in features_to_remove:\n",
    "        try:\n",
    "            model_data_dict[i] = model_data_dict[i].drop(var, axis=1)\n",
    "        except:\n",
    "#             print \"didnt drop \", var\n",
    "            pass"
   ]
  },
  {
   "cell_type": "code",
   "execution_count": 1919,
   "metadata": {
    "collapsed": false
   },
   "outputs": [],
   "source": [
    "### turn into classification model, requires more knowledge of data\n",
    "'''\n",
    "http://www.healthline.com/health/high-cholesterol/levels-by-age#3\n",
    "lbdldl\n",
    "LDL\n",
    "Good: 130 mg/dL or lower  (0)\n",
    "Borderline: 130 to 159 mg/dL   (1)\n",
    "High: 160 mg/dL or higher   (2)\n",
    "\n",
    "lbxsch\n",
    "Total Cholesterol\n",
    "Good: 200 mg/dL or lower   (0)\n",
    "Borderline: 200 to 239 mg/dL   (1)\n",
    "High: 240 mg/dL or higher   (2)\n",
    "\n",
    "lbxstr (triglycerides)\n",
    "Triglycerides\n",
    "Good: 149 mg/dL or lower  (0)\n",
    "Borderline: 150 to 199 mg/dL   (1)\n",
    "High: 200 mg/dL or higher   (2)\n",
    "\n",
    "lbxsgl (glucose)\n",
    "\n",
    "\n",
    "lbxsca (calcium)\n",
    "\n",
    "\n",
    "LBXIN (Insulin)\n",
    "A study in Arizona found that women with a fasting insulin level around 8.0 had twice the risk of prediabetes as \n",
    "did women with a level around 5.0. Women with a fasting insulin of 25 or so had five times the risk of prediabetes.\n",
    "\n",
    "(if to the tenth then 6.5)\n",
    "2-6 good\n",
    "> 7 bad\n",
    "\n",
    "lbxsir (Iron)\n",
    "\n",
    "\n",
    "'BPXDI1' (diastolic)  'BPXSY1' (systolic)\n",
    "90 over 60 (90/60) or less: You may have low blood pressure\n",
    "More than 90 over 60 (90/60) and less than 120 over 80 (120/80): Your blood pressure reading is ideal and healthy\n",
    "More than 120 over 80 and less than 140 over 90 (120/80-140/90): You have a normal blood pressure reading but it is \n",
    "a little higher than it should be, and you should try to lower it\n",
    "140 over 90 (140/90) or higher (over a number of weeks): You may have high blood pressure (hypertension).\n",
    "Change your lifestyle - see your doctor or nurse and take any medicines they may give you. \n",
    "3 = high\n",
    "2 = pre-high\n",
    "1 = good\n",
    "0 = low\n",
    "\n",
    "'BPXPLS'  (pulse)\n",
    "\n",
    "\n",
    "\n",
    "\n",
    "'''\n",
    "cat_list = ['lbdldl', 'lbxsch', 'lbxstr', 'BP', 'LBXIN']\n",
    "## copy data to new dict name\n",
    "\n",
    "var = 'LBXIN'\n",
    "if max(model_data_dict[var][var]) > 5:\n",
    "#     plt.hist(model_data_dict[var][var])\n",
    "    model_data_dict[var].reset_index(drop=True, inplace=True)\n",
    "    df = model_data_dict[var]\n",
    "    df[var].loc[df[var] <= 6.599] = 0\n",
    "    df[var].loc[df[var] >= 6.6] = 1\n",
    "    model_data_dict[var] = df\n",
    "    \n",
    "\n",
    "\n",
    "dia = 'BPXDI1'\n",
    "sys = 'BPXSY1'\n",
    "if max(model_data_dict['BPXDI1']['BPXDI1']) > 5:\n",
    "    model_data_dict[dia].reset_index(drop=True, inplace=True)\n",
    "    model_data_dict[sys].reset_index(drop=True, inplace=True)\n",
    "    dia = model_data_dict[dia]\n",
    "    sys = model_data_dict[sys]\n",
    "    temp_sys = pd.DataFrame()\n",
    "    temp_sys['SEQN'] = sys['SEQN']\n",
    "    temp_sys['BPXSY1'] = sys['BPXSY1']\n",
    "    df = dia.merge(temp_sys, on='SEQN', how='inner')\n",
    "    \n",
    "\n",
    "\n",
    "\n",
    "    BP_cat = []\n",
    "    for d,s in zip(df['BPXDI1'],df['BPXSY1']):\n",
    "#         if s < 90 and d < 60:\n",
    "#             BP_cat.append(0)\n",
    "#         if 90 < s <= 120 and 60 < d <= 80:\n",
    "#             BP_cat.append(1)\n",
    "#         if 120 < s <= 140 and 80 < d <= 90: \n",
    "#             BP_cat.append(2)\n",
    "#         if 140 < s or 90 < d:\n",
    "#             BP_cat.append(3)\n",
    "        if s > 140 or d > 90:\n",
    "            BP_cat.append(3)\n",
    "        elif s <= 90 and d <= 60:\n",
    "            BP_cat.append(0)\n",
    "        elif s <= 140:\n",
    "            if d > 80 and d <= 90:\n",
    "                BP_cat.append(2)\n",
    "            elif s > 120:\n",
    "                BP_cat.append(2)\n",
    "            elif s <= 120:\n",
    "                if d > 60 and d <= 80:\n",
    "                    BP_cat.append(1)\n",
    "                elif s > 90:\n",
    "                    BP_cat.append(1)\n",
    "            else:\n",
    "                BP_cat.append(0)\n",
    "    df.drop(['BPXSY1','BPXDI1'], axis=1, inplace=True)\n",
    "    df['BP'] = BP_cat\n",
    "    model_data_dict['BP'] = df\n",
    "\n",
    "\n",
    "var = 'lbdldl'\n",
    "if max(model_data_dict[var][var]) > 5:\n",
    "    model_data_dict[var].reset_index(drop=True, inplace=True)\n",
    "    df = model_data_dict[var]\n",
    "    df[var].loc[df[var] <= 129] = 0\n",
    "    df[var].loc[(df[var] >= 130) & (df[var] <= 159)] = 1\n",
    "    df[var].loc[df[var] >= 160] = 2\n",
    "\n",
    "    model_data_dict[var] = df\n",
    "    \n",
    "    \n",
    "var = 'lbxsch'\n",
    "if max(model_data_dict[var][var]) > 5:\n",
    "    model_data_dict[var].reset_index(drop=True, inplace=True)\n",
    "    df = model_data_dict[var]\n",
    "    df[var].loc[df[var] <= 200] = 0\n",
    "    df[var].loc[(df[var] >= 201) & (df[var] <= 239)] = 1\n",
    "    df[var].loc[df[var] >= 240] = 2\n",
    "\n",
    "    model_data_dict[var] = df\n",
    "    \n",
    "var = 'lbxstr'\n",
    "if max(model_data_dict[var][var]) > 5:\n",
    "    model_data_dict[var].reset_index(drop=True, inplace=True)\n",
    "    df = model_data_dict[var]\n",
    "    df[var].loc[df[var] <= 149] = 0\n",
    "    df[var].loc[(df[var] >= 150) & (df[var] <= 199)] = 1\n",
    "    df[var].loc[df[var] >= 200] = 2\n",
    "\n",
    "    model_data_dict[var] = df\n",
    "    \n",
    "\n",
    "    \n",
    "    \n",
    "    # print 'new'\n",
    "# print df.head()\n",
    "# print 'old'\n",
    "# print model_data_dict['lbdldl']['lbdldl'].head()\n",
    "# print model_data_dict.keys()\n",
    "# print model_data_dict['lbdldl_cat']['lbdldl'].head()\n",
    "# print df['lbdldl_cat'].head()\n",
    "# print '*****'\n",
    "# print model_data_dict['lbdldl']['lbdldl'].head()\n",
    "\n",
    "\n",
    "## svm regressor or linear regressor to check\n",
    "## look into outliers by lookign looking at scatterplots\n",
    "## look at correlations between features\n",
    "## look at correlations between X and Y, if 0 correlation take it out, easy to look at scatterplot\n"
   ]
  },
  {
   "cell_type": "code",
   "execution_count": null,
   "metadata": {
    "collapsed": true
   },
   "outputs": [],
   "source": [
    "def regr_acc(X_validation, Y_validation, model):\n",
    "    # The mean squared error\n",
    "    mse = np.mean((model.predict(X_validation) - Y_validation) ** 2)\n",
    "    print(\"Mean squared error: %.2f\"\n",
    "          % mse)\n",
    "    # Explained variance score: 1 is perfect prediction\n",
    "    print('Variance score: %.2f' % model.score(X_validation, Y_validation))\n",
    "    \n",
    "    return mse"
   ]
  },
  {
   "cell_type": "code",
   "execution_count": null,
   "metadata": {
    "collapsed": false
   },
   "outputs": [],
   "source": [
    "# model_data_dict[dependent]['LBXIN'].describe()"
   ]
  },
  {
   "cell_type": "code",
   "execution_count": null,
   "metadata": {
    "collapsed": false,
    "scrolled": false
   },
   "outputs": [],
   "source": [
    "# for dependent in model_data_dict:\n",
    "dependent = 'BP'\n",
    "feature_list = model_data_dict[dependent].drop([dependent,'SEQN'], axis=1).columns.tolist()\n",
    "Y = np.array(model_data_dict[dependent][dependent])\n",
    "X = np.array(model_data_dict[dependent].drop([dependent,'SEQN'], axis=1))\n",
    "drop = []\n",
    "# for i in range(len(feature_list)):\n",
    "#     print i\n",
    "validation_size = 0.40\n",
    "seed = 7\n",
    "X_train, X_validation, Y_train, Y_validation = cross_validation.train_test_split(X, Y, \\\n",
    "                                                            test_size=validation_size, random_state=seed)\n",
    "Y_validation = Y_train\n",
    "X_validation = X_train\n",
    "\n",
    "if categories:\n",
    "    if dependent in cat_list:\n",
    "        print dependent\n",
    "        model = RandomForestClassifier(n_estimators=100, min_samples_split=2,min_samples_leaf=1,\\\n",
    "                                       n_jobs=-1, max_features='auto', random_state=seed)\n",
    "\n",
    "        score = cross_val_score(model, X_train, Y_train, cv=10)\n",
    "        print(\"Accuracy: %s (+/- %s)\" % (score.mean(), score.std()))\n",
    "        cv_predict = cross_val_predict(model, X_validation,Y_validation, cv=10)\n",
    "        print accuracy_score(Y_validation, cv_predict), \" CV HO\"\n",
    "        print pd.crosstab(Y_validation, cv_predict, rownames=['True'], colnames=['Predicted'], margins=True)\n",
    "        print(classification_report(Y_validation, cv_predict))\n",
    "        model.fit(X_train, Y_train) \n",
    "        impo_features = feature_importance(model, X, feature_list, dependent, show_ranking=False,\\\n",
    "                                           csv=True, show_plot=True)\n",
    "        roc_curve_plot(X,Y, dependent, RF_main_model) \n",
    "#         plot_learning_curve(model, dependent, X_train, Y_train, ylim=(0.5, 1.01), cv=10, n_jobs=4)\n",
    "\n",
    "\n",
    "#                 print impo_features\n",
    "#             drop.append(impo_features[-1])\n",
    "#             X = np.array(model_data_dict[dependent].drop([dependent,'SEQN'], axis=1))\n",
    "#             feature_list = model_data_dict[dependent].drop([dependent,'SEQN'], axis=1).columns.tolist()\n",
    "#             for item in drop:\n",
    "#                 X = np.array(model_data_dict[dependent].drop(item, axis=1))\n",
    "#                 feature_list = model_data_dict[dependent].drop(item, axis=1).columns.tolist()\n",
    "\n"
   ]
  },
  {
   "cell_type": "code",
   "execution_count": 1849,
   "metadata": {
    "collapsed": false,
    "scrolled": false
   },
   "outputs": [
    {
     "name": "stdout",
     "output_type": "stream",
     "text": [
      "lbdldl\n",
      "lbdldl\n",
      "categorical\n",
      "0.999922426499 on training\n",
      "0.729842931937 on hold out\n",
      "Accuracy: 0.73058719 (+/- 0.00398499230766)\n",
      "0.729028504945  CV HO\n",
      "Predicted   0.0  1.0  2.0   All\n",
      "True                           \n",
      "0.0        6221  106   11  6338\n",
      "1.0        1492   42    4  1538\n",
      "2.0         696   20    3   719\n",
      "All        8409  168   18  8595\n",
      "             precision    recall  f1-score   support\n",
      "\n",
      "        0.0       0.74      0.98      0.84      6338\n",
      "        1.0       0.25      0.03      0.05      1538\n",
      "        2.0       0.17      0.00      0.01       719\n",
      "\n",
      "avg / total       0.60      0.73      0.63      8595\n",
      "\n",
      "slope  4.0105656355e-07\n"
     ]
    },
    {
     "data": {
      "image/png": "[encoded data removed]",
      "text/plain": [
       "<matplotlib.figure.Figure at 0x117496250>"
      ]
     },
     "metadata": {},
     "output_type": "display_data"
    },
    {
     "name": "stdout",
     "output_type": "stream",
     "text": [
      "Feature ranking:\n",
      "1. feature 9 (0.204682)\n",
      "2. feature 4 (0.164580)\n",
      "3. feature 11 (0.119426)\n",
      "4. feature 7 (0.074568)\n",
      "5. feature 13 (0.072039)\n",
      "6. feature 2 (0.068423)\n",
      "7. feature 1 (0.059426)\n",
      "8. feature 8 (0.059212)\n",
      "9. feature 5 (0.047000)\n",
      "10. feature 10 (0.042762)\n",
      "11. feature 12 (0.025922)\n",
      "12. feature 3 (0.023037)\n",
      "13. feature 6 (0.022890)\n",
      "14. feature 0 (0.016034)\n"
     ]
    },
    {
     "data": {
      "image/png": "[encoded data removed]",
      "text/plain": [
       "<matplotlib.figure.Figure at 0x117514a90>"
      ]
     },
     "metadata": {},
     "output_type": "display_data"
    },
    {
     "name": "stdout",
     "output_type": "stream",
     "text": [
      "lbxsch\n",
      "lbxsch\n",
      "categorical\n",
      "0.999844852998 on training\n",
      "0.650959860384 on hold out\n",
      "Accuracy: 0.653792230623 (+/- 0.00597334118884)\n",
      "0.65189063409  CV HO\n",
      "Predicted   0.0  1.0  2.0   All\n",
      "True                           \n",
      "0.0        5365  307   44  5716\n",
      "1.0        1737  221   39  1997\n",
      "2.0         720  145   17   882\n",
      "All        7822  673  100  8595\n",
      "             precision    recall  f1-score   support\n",
      "\n",
      "        0.0       0.69      0.94      0.79      5716\n",
      "        1.0       0.33      0.11      0.17      1997\n",
      "        2.0       0.17      0.02      0.03       882\n",
      "\n",
      "avg / total       0.55      0.65      0.57      8595\n",
      "\n",
      "slope  -3.64279905168e-07\n"
     ]
    },
    {
     "data": {
      "image/png": "[encoded data removed]",
      "text/plain": [
       "<matplotlib.figure.Figure at 0x12a28c7d0>"
      ]
     },
     "metadata": {},
     "output_type": "display_data"
    },
    {
     "name": "stdout",
     "output_type": "stream",
     "text": [
      "Feature ranking:\n",
      "1. feature 9 (0.201922)\n",
      "2. feature 4 (0.169450)\n",
      "3. feature 11 (0.122485)\n",
      "4. feature 7 (0.072823)\n",
      "5. feature 13 (0.069711)\n",
      "6. feature 2 (0.068706)\n",
      "7. feature 1 (0.060565)\n",
      "8. feature 8 (0.057069)\n",
      "9. feature 5 (0.046517)\n",
      "10. feature 10 (0.043409)\n",
      "11. feature 12 (0.026357)\n",
      "12. feature 6 (0.024848)\n",
      "13. feature 3 (0.019803)\n",
      "14. feature 0 (0.016334)\n"
     ]
    },
    {
     "data": {
      "image/png": "[encoded data removed]",
      "text/plain": [
       "<matplotlib.figure.Figure at 0x12b434b50>"
      ]
     },
     "metadata": {},
     "output_type": "display_data"
    },
    {
     "name": "stdout",
     "output_type": "stream",
     "text": [
      "lbxsgl\n",
      "lbxsca\n",
      "lbxstr\n",
      "lbxstr\n",
      "categorical\n",
      "0.999844852998 on training\n",
      "0.791855730076 on hold out\n",
      "Accuracy: 0.795903582225 (+/- 0.00310503684727)\n",
      "0.789994182664  CV HO\n",
      "Predicted   0.0  1.0  2.0   All\n",
      "True                           \n",
      "0.0        6772   37   30  6839\n",
      "1.0         968   14    9   991\n",
      "2.0         746   15    4   765\n",
      "All        8486   66   43  8595\n",
      "             precision    recall  f1-score   support\n",
      "\n",
      "        0.0       0.80      0.99      0.88      6839\n",
      "        1.0       0.21      0.01      0.03       991\n",
      "        2.0       0.09      0.01      0.01       765\n",
      "\n",
      "avg / total       0.67      0.79      0.71      8595\n",
      "\n",
      "slope  -2.22735503817e-08\n"
     ]
    },
    {
     "data": {
      "image/png": "[encoded data removed]",
      "text/plain": [
       "<matplotlib.figure.Figure at 0x11d442d10>"
      ]
     },
     "metadata": {},
     "output_type": "display_data"
    },
    {
     "name": "stdout",
     "output_type": "stream",
     "text": [
      "Feature ranking:\n",
      "1. feature 9 (0.226584)\n",
      "2. feature 4 (0.148446)\n",
      "3. feature 11 (0.114859)\n",
      "4. feature 2 (0.073825)\n",
      "5. feature 7 (0.073369)\n",
      "6. feature 13 (0.068994)\n",
      "7. feature 8 (0.059975)\n",
      "8. feature 1 (0.054839)\n",
      "9. feature 10 (0.046883)\n",
      "10. feature 5 (0.042376)\n",
      "11. feature 12 (0.027003)\n",
      "12. feature 3 (0.025101)\n",
      "13. feature 6 (0.022344)\n",
      "14. feature 0 (0.015403)\n"
     ]
    },
    {
     "data": {
      "image/png": "[encoded data removed]",
      "text/plain": [
       "<matplotlib.figure.Figure at 0x12a4aa590>"
      ]
     },
     "metadata": {},
     "output_type": "display_data"
    },
    {
     "name": "stdout",
     "output_type": "stream",
     "text": [
      "LBXIN\n",
      "LBXIN\n",
      "categorical\n",
      "0.999767279497 on training\n",
      "0.766375799884 on hold out\n",
      "Accuracy: 0.764096893472 (+/- 0.00939066875364)\n",
      "0.754043048284  CV HO\n",
      "Predicted   0.0   1.0   All\n",
      "True                       \n",
      "0.0         782  1477  2259\n",
      "1.0         637  5699  6336\n",
      "All        1419  7176  8595\n",
      "             precision    recall  f1-score   support\n",
      "\n",
      "        0.0       0.55      0.35      0.43      2259\n",
      "        1.0       0.79      0.90      0.84      6336\n",
      "\n",
      "avg / total       0.73      0.75      0.73      8595\n",
      "\n",
      "slope  7.05778412683e-07\n"
     ]
    },
    {
     "data": {
      "image/png": "[encoded data removed]",
      "text/plain": [
       "<matplotlib.figure.Figure at 0x11c12ead0>"
      ]
     },
     "metadata": {},
     "output_type": "display_data"
    },
    {
     "name": "stdout",
     "output_type": "stream",
     "text": [
      "Feature ranking:\n",
      "1. feature 9 (0.338645)\n",
      "2. feature 4 (0.132776)\n",
      "3. feature 11 (0.091750)\n",
      "4. feature 2 (0.067998)\n",
      "5. feature 13 (0.063324)\n",
      "6. feature 7 (0.056927)\n",
      "7. feature 8 (0.044528)\n",
      "8. feature 5 (0.044061)\n",
      "9. feature 1 (0.043664)\n",
      "10. feature 10 (0.040019)\n",
      "11. feature 12 (0.025099)\n",
      "12. feature 3 (0.020954)\n",
      "13. feature 6 (0.018445)\n",
      "14. feature 0 (0.011811)\n"
     ]
    },
    {
     "data": {
      "image/png": "[encoded data removed]",
      "text/plain": [
       "<matplotlib.figure.Figure at 0x11a14cc50>"
      ]
     },
     "metadata": {},
     "output_type": "display_data"
    },
    {
     "name": "stdout",
     "output_type": "stream",
     "text": [
      "BPXDI1\n",
      "BP\n",
      "BP\n",
      "categorical\n",
      "0.999844852998 on training\n",
      "0.585573007563 on hold out\n",
      "Accuracy: 0.581414289875 (+/- 0.00701830406291)\n",
      "0.584060500291  CV HO\n",
      "Predicted   0     1     2    3   All\n",
      "True                                \n",
      "0           0   119    21    1   141\n",
      "1          13  3759   845  140  4757\n",
      "2           4  1298  1038  233  2573\n",
      "3           0   330   571  223  1124\n",
      "All        17  5506  2475  597  8595\n",
      "             precision    recall  f1-score   support\n",
      "\n",
      "          0       0.00      0.00      0.00       141\n",
      "          1       0.68      0.79      0.73      4757\n",
      "          2       0.42      0.40      0.41      2573\n",
      "          3       0.37      0.20      0.26      1124\n",
      "\n",
      "avg / total       0.55      0.58      0.56      8595\n",
      "\n",
      "slope  5.2036533991e-07\n"
     ]
    },
    {
     "data": {
      "image/png": "[encoded data removed]",
      "text/plain": [
       "<matplotlib.figure.Figure at 0x11a534910>"
      ]
     },
     "metadata": {},
     "output_type": "display_data"
    },
    {
     "name": "stdout",
     "output_type": "stream",
     "text": [
      "Feature ranking:\n",
      "1. feature 9 (0.209238)\n",
      "2. feature 4 (0.201382)\n",
      "3. feature 11 (0.109496)\n",
      "4. feature 2 (0.073418)\n",
      "5. feature 7 (0.065628)\n",
      "6. feature 13 (0.059174)\n",
      "7. feature 1 (0.055429)\n",
      "8. feature 8 (0.051439)\n",
      "9. feature 5 (0.044757)\n",
      "10. feature 10 (0.042683)\n",
      "11. feature 3 (0.027153)\n",
      "12. feature 12 (0.023821)\n",
      "13. feature 6 (0.021077)\n",
      "14. feature 0 (0.015303)\n"
     ]
    },
    {
     "data": {
      "image/png": "[encoded data removed]",
      "text/plain": [
       "<matplotlib.figure.Figure at 0x11c172250>"
      ]
     },
     "metadata": {},
     "output_type": "display_data"
    },
    {
     "name": "stdout",
     "output_type": "stream",
     "text": [
      "BPXPLS\n",
      "BPXSY1\n",
      "lbxsir\n"
     ]
    }
   ],
   "source": [
    "\n",
    "## split up the data\n",
    "categories = True\n",
    "roc_scores = {}\n",
    "RF_scores = {}\n",
    "# var_dict = {}\n",
    "for dependent in model_data_dict:\n",
    "    print dependent\n",
    "    feature_list = model_data_dict[dependent].drop([dependent,'SEQN'], axis=1).columns.tolist()\n",
    "    temp_list = []\n",
    "    \n",
    "    Y = np.array(model_data_dict[dependent][dependent])\n",
    "    X = np.array(model_data_dict[dependent].drop([dependent,'SEQN'], axis=1))\n",
    "    \n",
    "    validation_size = 0.4\n",
    "    seed = 1\n",
    "    X_train, X_validation, Y_train, Y_validation = cross_validation.train_test_split(X, Y, \\\n",
    "                                                                test_size=validation_size, random_state=seed)\n",
    "#     Y_validation = Y_train\n",
    "#     X_validation = X_train\n",
    "    ### could do cross validation with all data\n",
    "    if categories:\n",
    "        if dependent in cat_list:\n",
    "            print dependent\n",
    "    #         print '\\n'\n",
    "            print \"categorical\"\n",
    "            model = RandomForestClassifier(n_estimators=100, min_samples_split=2,min_samples_leaf=1,\\\n",
    "                                           n_jobs=-1, max_features='auto', random_state=seed)\n",
    "            RF_main_model = model\n",
    "            model.fit(X_train, Y_train) \n",
    "            print model.score(X_train,Y_train), 'on training'\n",
    "            predicted = model.predict(X_validation)\n",
    "            ho_score = model.score(X_validation, Y_validation)\n",
    "            print ho_score, 'on hold out'\n",
    "            \n",
    "            score = cross_val_score(model, X_train, Y_train, cv=10)\n",
    "            print(\"Accuracy: %s (+/- %s)\" % (score.mean(), score.std()))\n",
    "            RF_scores[dependent] = [{'HO':ho_score, \"CV\":score}]\n",
    "#             print pd.crosstab(Y_validation, predicted, rownames=['True'], colnames=['Predicted'], margins=True)\n",
    "#             print 'cv'\n",
    "            cv_predict = cross_val_predict(model, X_validation,Y_validation, cv=10)\n",
    "            print accuracy_score(Y_validation, cv_predict), \" CV HO\"\n",
    "        \n",
    "#             print accuracy_score(Y_validation, cv_predict, normalize=False), \" CV HO, count\"\n",
    "#             print f1_score(Y_validation, cv_predict, average='weighted'), \"F1 score\"\n",
    "            \n",
    "#             print cross_val_score(model, X, Y, cv=10).mean(), \"all the data\"\n",
    "#             cv_predict_all = cross_val_predict(model, X,Y, cv=10)\n",
    "#             print pd.crosstab(Y, cv_predict_all, rownames=['True'], colnames=['Predicted'], margins=True)\n",
    "#             print 'end all test'\n",
    "            print pd.crosstab(Y_validation, cv_predict, rownames=['True'], colnames=['Predicted'], margins=True)\n",
    "            print(classification_report(Y_validation, cv_predict))\n",
    "            plot_learning_curve(model, dependent, X_train, Y_train, ylim=(0.5, 1.01), cv=10, n_jobs=4)\n",
    "#             roc_curve_plot(X,Y, dependent, RF_main_model) \n",
    "\n",
    "#             print temp_list\n",
    "            feature_importance(model, X, feature_list, dependent, show_ranking=True,\\\n",
    "                                                   csv=True, show_plot=True)\n",
    "\n",
    "\n",
    "#     else:\n",
    "#         print dependent\n",
    "#         print \"linear\"\n",
    "#         model = RandomForestRegressor()  \n",
    "#     #     model = PLSRegression(n_components=1)\n",
    "        \n",
    "#         model.fit(X_train, Y_train) \n",
    "#         print model.score(X_train,Y_train), \"R^2\"\n",
    "# #         prediction = model.predict(X_validation)\n",
    "#         mse = regr_acc(X_validation, Y_validation, model) ## my own function for mean sqrd error and variance\n",
    "#         score = cross_val_score(model, X_train, Y_train, cv=10, scoring='neg_mean_squared_error').mean()\n",
    "#         print score\n",
    "#         cv_predict = cross_val_predict(model, X_validation,Y_validation)\n",
    "#         mse = np.mean((cv_predict- Y_validation) ** 2)\n",
    "#         RF_scores[dependent] = [{'HO':mse, \"CV\":score}]\n",
    "#         feature_importance(model, X)\n",
    "\n",
    "#     print accuracy_score(prediction,Y_validation)\n",
    "\n",
    "#     print type(X), type(Y)\n",
    "#     # prepare models\n",
    "#     models = []\n",
    "#     models.append(('RF', RandomForestRegressor()))\n",
    "#     models.append(('PLS', PLSRegression(n_components=1)))\n",
    "#     models.append(('KR', KernelRidge(alpha=1.0)))\n",
    "#     models.append(('LR', LinearRegression()))\n",
    "    \n",
    "    \n",
    "    # evaluate each model in turn\n",
    "#             num_folds = 10\n",
    "#             num_instances = len(X_train)\n",
    "#             seed = 7\n",
    "#             scoring = 'accuracy'\n",
    "#             models = []\n",
    "#             models.append(('LR', LogisticRegression()))\n",
    "# #             models.append(('LDA', LinearDiscriminantAnalysis()))\n",
    "# #             models.append(('KNN', KNeighborsClassifier()))\n",
    "# #             models.append(('CART', DecisionTreeClassifier()))\n",
    "# #             models.append(('NB', GaussianNB()))\n",
    "# #             models.append(('SVM', SVC()))\n",
    "#             # evaluate each model in turn\n",
    "#             results = []\n",
    "#             names = []\n",
    "#             for name, model in models:\n",
    "#                 kfold = cross_validation.KFold(n=num_instances, n_folds=num_folds, random_state=seed)\n",
    "#                 cv_results = cross_validation.cross_val_score(model, X_train, Y_train, cv=kfold, scoring=scoring)\n",
    "#                 results.append(cv_results)\n",
    "#                 names.append(name)\n",
    "#                 msg = \"%s: %f (%f)\" % (name, cv_results.mean(), cv_results.std())\n",
    "#                 print(msg)\n",
    "#                 print sigmoid( dot([val1, val2], lr.coef_) + lr.intercept_ ) \n",
    "#                 print model.fit(X_train,Y_train).predict_proba(X_validation)\n",
    "#                 pca = PCA(n_components=2)\n",
    "#                 cls = LogisticRegression() \n",
    "#                 pipe = Pipeline([('pca', pca), ('logistic', clf)])\n",
    "#                 pipe.fit(X_train, Y_train)\n",
    "#                 predictions = pipe.predict(X_validation)\n",
    "#                 print accuracy_score(Y_validation, predictions)\n",
    "#                 print pipe.score(X_validation, Y_validation)\n",
    "                \n",
    "    # boxplot algorithm comparison\n",
    "#     fig = plt.figure()\n",
    "#     fig.suptitle('Algorithm Comparison')\n",
    "#     ax = fig.add_subplot(111)\n",
    "#     plt.boxplot(results)\n",
    "#     ax.set_xticklabels(names)\n",
    "#     plt.show()\n",
    "#     break"
   ]
  },
  {
   "cell_type": "code",
   "execution_count": 1652,
   "metadata": {
    "collapsed": false,
    "scrolled": true
   },
   "outputs": [
    {
     "name": "stdout",
     "output_type": "stream",
     "text": [
      "{'lbdldl': [{'HO': 0.72809773123909249, 'CV': 0.7287264239076553}], 'lbxsch': [{'HO': 0.64653868528214076, 'CV': 0.65154164164252049}], 'BP': [{'HO': 0.58357518592417923, 'CV': 0.59989055129227542}], 'lbxstr': [{'HO': 0.78987783595113437, 'CV': 0.79613710343125288}], 'LBXIN': [{'HO': 0.76009307737056431, 'CV': 0.76611456375892328}]}\n"
     ]
    }
   ],
   "source": [
    "print RF_scores"
   ]
  },
  {
   "cell_type": "code",
   "execution_count": null,
   "metadata": {
    "collapsed": false
   },
   "outputs": [],
   "source": [
    "'''\n",
    "Default\n",
    "lbdldl\n",
    "categorical\n",
    "0.718861209964 on hold out\n",
    "Accuracy: 0.71 (+/- 0.00)\n",
    "LR: 0.735909 (0.007158)\n",
    "LDA: 0.736014 (0.006932)\n",
    "KNN: 0.704350 (0.007298)\n",
    "lbxsch\n",
    "categorical\n",
    "0.637429348964 on hold out\n",
    "Accuracy: 0.63 (+/- 0.00)\n",
    "LR: 0.661381 (0.008607)\n",
    "LDA: 0.661329 (0.007788)\n",
    "KNN: 0.630607 (0.007509)\n",
    "lbxstr\n",
    "categorical\n",
    "0.776219384551 on hold out\n",
    "Accuracy: 0.78 (+/- 0.00)\n",
    "LR: 0.798972 (0.009357)\n",
    "LDA: 0.798658 (0.009168)\n",
    "KNN: 0.780236 (0.008511)\n",
    "\n",
    "min_samples_leaf=50\n",
    "lbdldl\n",
    "categorical\n",
    "0.746284278836 on hold out\n",
    "Accuracy: 0.74 (+/- 0.00)\n",
    "lbxsch\n",
    "categorical\n",
    "0.674481892401 on hold out\n",
    "Accuracy: 0.66 (+/- 0.00)\n",
    "lbxstr\n",
    "categorical\n",
    "0.790663596399 on hold out\n",
    "Accuracy: 0.80 (+/- 0.00)\n",
    "\n",
    "100 estimators\n",
    "lbdldl\n",
    "categorical\n",
    "0.737910822692 on hold out\n",
    "Accuracy: 0.73 (+/- 0.00)\n",
    "lbxsch\n",
    "categorical\n",
    "0.653757588445 on hold out\n",
    "Accuracy: 0.65 (+/- 0.00)\n",
    "lbxstr\n",
    "categorical\n",
    "0.785639522713 on hold out\n",
    "Accuracy: 0.79 (+/- 0.00)\n",
    "\n",
    "Default\n",
    "lbdldl\n",
    "Predicted   0.0  1.0  2.0   All\n",
    "True                           \n",
    "0.0        3492   61   12  3565\n",
    "1.0         805   28    3   836\n",
    "2.0         362   14    0   376\n",
    "All        4659  103   15  4777\n",
    "lbxsch\n",
    "Predicted   0.0  1.0  2.0   All\n",
    "True                           \n",
    "0.0        3024  175   23  3222\n",
    "1.0         946  123   21  1090\n",
    "2.0         394   65    6   465\n",
    "All        4364  363   50  4777\n",
    "lbxstr\n",
    "Predicted   0.0  1.0  2.0   All\n",
    "True                           \n",
    "0.0        3743   21   13  3777\n",
    "1.0         556    6    5   567\n",
    "2.0         427    4    2   433\n",
    "All        4726   31   20  4777\n",
    "\n",
    "\n",
    "min leaf 100\n",
    "lbdldl\n",
    "categorical\n",
    "Predicted   0.0   All\n",
    "True                 \n",
    "0.0        3565  3565\n",
    "1.0         836   836\n",
    "2.0         376   376\n",
    "All        4777  4777\n",
    "lbxsch\n",
    "Predicted   0.0   All\n",
    "True                 \n",
    "0.0        3222  3222\n",
    "1.0        1090  1090\n",
    "2.0         465   465\n",
    "All        4777  4777\n",
    "lbxstr\n",
    "Predicted   0.0   All\n",
    "True                 \n",
    "0.0        3777  3777\n",
    "1.0         567   567\n",
    "2.0         433   433\n",
    "All        4777  4777\n",
    "\n",
    "\n",
    "Notes:\n",
    "- First istead of getting rid of outliers, I made them 'na', then afterwords computed the mean replacement\n",
    "- Seems Logit might be best\n",
    "- Tried manipulating RF model, with leaf sample size and estimators and other things\n",
    "- tried PCA and logit, worse off\n",
    "- looked at learning curve and decided to reduce the amount of NA's by only keeping only 2000 of the least NA rows\n",
    "  -- get rid of outliers\n",
    "  -- get rid of columns with < 40% of data\n",
    "  -- do mean replacement of NA's on all columns\n",
    "  \n",
    "- since we dont need a lot of data changed the training size to 40% in order to have a more robust predictions score\n",
    "-removed any features with > 50% correlations\n",
    "\n",
    "- very high correlation between ldl and totchl 0.76695075 \n",
    "'''"
   ]
  },
  {
   "cell_type": "code",
   "execution_count": 1174,
   "metadata": {
    "collapsed": false,
    "scrolled": true
   },
   "outputs": [
    {
     "ename": "ValueError",
     "evalue": "Invalid parameter gamma for estimator RandomForestClassifier. Check the list of available parameters with `estimator.get_params().keys()`.",
     "output_type": "error",
     "traceback": [
      "\u001b[0;31m---------------------------------------------------------------------------\u001b[0m",
      "\u001b[0;31mValueError\u001b[0m                                Traceback (most recent call last)",
      "\u001b[0;32m<ipython-input-1174-3d02ceddab91>\u001b[0m in \u001b[0;36m<module>\u001b[0;34m()\u001b[0m\n\u001b[1;32m      4\u001b[0m train_scores, test_scores = validation_curve(\n\u001b[1;32m      5\u001b[0m     \u001b[0mRF_main_model\u001b[0m\u001b[0;34m,\u001b[0m \u001b[0mX\u001b[0m\u001b[0;34m,\u001b[0m \u001b[0mY\u001b[0m\u001b[0;34m,\u001b[0m \u001b[0mparam_name\u001b[0m\u001b[0;34m=\u001b[0m\u001b[0;34m\"gamma\"\u001b[0m\u001b[0;34m,\u001b[0m \u001b[0mparam_range\u001b[0m\u001b[0;34m=\u001b[0m\u001b[0mparam_range\u001b[0m\u001b[0;34m,\u001b[0m\u001b[0;34m\u001b[0m\u001b[0m\n\u001b[0;32m----> 6\u001b[0;31m     cv=10, scoring=\"accuracy\", n_jobs=1)\n\u001b[0m\u001b[1;32m      7\u001b[0m \u001b[0mtrain_scores_mean\u001b[0m \u001b[0;34m=\u001b[0m \u001b[0mnp\u001b[0m\u001b[0;34m.\u001b[0m\u001b[0mmean\u001b[0m\u001b[0;34m(\u001b[0m\u001b[0mtrain_scores\u001b[0m\u001b[0;34m,\u001b[0m \u001b[0maxis\u001b[0m\u001b[0;34m=\u001b[0m\u001b[0;36m1\u001b[0m\u001b[0;34m)\u001b[0m\u001b[0;34m\u001b[0m\u001b[0m\n\u001b[1;32m      8\u001b[0m \u001b[0mtrain_scores_std\u001b[0m \u001b[0;34m=\u001b[0m \u001b[0mnp\u001b[0m\u001b[0;34m.\u001b[0m\u001b[0mstd\u001b[0m\u001b[0;34m(\u001b[0m\u001b[0mtrain_scores\u001b[0m\u001b[0;34m,\u001b[0m \u001b[0maxis\u001b[0m\u001b[0;34m=\u001b[0m\u001b[0;36m1\u001b[0m\u001b[0;34m)\u001b[0m\u001b[0;34m\u001b[0m\u001b[0m\n",
      "\u001b[0;32m/Users/mjaron/anaconda/lib/python2.7/site-packages/sklearn/model_selection/_validation.pyc\u001b[0m in \u001b[0;36mvalidation_curve\u001b[0;34m(estimator, X, y, param_name, param_range, groups, cv, scoring, n_jobs, pre_dispatch, verbose)\u001b[0m\n\u001b[1;32m    952\u001b[0m         \u001b[0mestimator\u001b[0m\u001b[0;34m,\u001b[0m \u001b[0mX\u001b[0m\u001b[0;34m,\u001b[0m \u001b[0my\u001b[0m\u001b[0;34m,\u001b[0m \u001b[0mscorer\u001b[0m\u001b[0;34m,\u001b[0m \u001b[0mtrain\u001b[0m\u001b[0;34m,\u001b[0m \u001b[0mtest\u001b[0m\u001b[0;34m,\u001b[0m \u001b[0mverbose\u001b[0m\u001b[0;34m,\u001b[0m\u001b[0;34m\u001b[0m\u001b[0m\n\u001b[1;32m    953\u001b[0m         parameters={param_name: v}, fit_params=None, return_train_score=True)\n\u001b[0;32m--> 954\u001b[0;31m         for train, test in cv.split(X, y, groups) for v in param_range)\n\u001b[0m\u001b[1;32m    955\u001b[0m \u001b[0;34m\u001b[0m\u001b[0m\n\u001b[1;32m    956\u001b[0m     \u001b[0mout\u001b[0m \u001b[0;34m=\u001b[0m \u001b[0mnp\u001b[0m\u001b[0;34m.\u001b[0m\u001b[0masarray\u001b[0m\u001b[0;34m(\u001b[0m\u001b[0mout\u001b[0m\u001b[0;34m)\u001b[0m\u001b[0;34m\u001b[0m\u001b[0m\n",
      "\u001b[0;32m/Users/mjaron/anaconda/lib/python2.7/site-packages/sklearn/externals/joblib/parallel.pyc\u001b[0m in \u001b[0;36m__call__\u001b[0;34m(self, iterable)\u001b[0m\n\u001b[1;32m    756\u001b[0m             \u001b[0;31m# was dispatched. In particular this covers the edge\u001b[0m\u001b[0;34m\u001b[0m\u001b[0;34m\u001b[0m\u001b[0m\n\u001b[1;32m    757\u001b[0m             \u001b[0;31m# case of Parallel used with an exhausted iterator.\u001b[0m\u001b[0;34m\u001b[0m\u001b[0;34m\u001b[0m\u001b[0m\n\u001b[0;32m--> 758\u001b[0;31m             \u001b[0;32mwhile\u001b[0m \u001b[0mself\u001b[0m\u001b[0;34m.\u001b[0m\u001b[0mdispatch_one_batch\u001b[0m\u001b[0;34m(\u001b[0m\u001b[0miterator\u001b[0m\u001b[0;34m)\u001b[0m\u001b[0;34m:\u001b[0m\u001b[0;34m\u001b[0m\u001b[0m\n\u001b[0m\u001b[1;32m    759\u001b[0m                 \u001b[0mself\u001b[0m\u001b[0;34m.\u001b[0m\u001b[0m_iterating\u001b[0m \u001b[0;34m=\u001b[0m \u001b[0mTrue\u001b[0m\u001b[0;34m\u001b[0m\u001b[0m\n\u001b[1;32m    760\u001b[0m             \u001b[0;32melse\u001b[0m\u001b[0;34m:\u001b[0m\u001b[0;34m\u001b[0m\u001b[0m\n",
      "\u001b[0;32m/Users/mjaron/anaconda/lib/python2.7/site-packages/sklearn/externals/joblib/parallel.pyc\u001b[0m in \u001b[0;36mdispatch_one_batch\u001b[0;34m(self, iterator)\u001b[0m\n\u001b[1;32m    606\u001b[0m                 \u001b[0;32mreturn\u001b[0m \u001b[0mFalse\u001b[0m\u001b[0;34m\u001b[0m\u001b[0m\n\u001b[1;32m    607\u001b[0m             \u001b[0;32melse\u001b[0m\u001b[0;34m:\u001b[0m\u001b[0;34m\u001b[0m\u001b[0m\n\u001b[0;32m--> 608\u001b[0;31m                 \u001b[0mself\u001b[0m\u001b[0;34m.\u001b[0m\u001b[0m_dispatch\u001b[0m\u001b[0;34m(\u001b[0m\u001b[0mtasks\u001b[0m\u001b[0;34m)\u001b[0m\u001b[0;34m\u001b[0m\u001b[0m\n\u001b[0m\u001b[1;32m    609\u001b[0m                 \u001b[0;32mreturn\u001b[0m \u001b[0mTrue\u001b[0m\u001b[0;34m\u001b[0m\u001b[0m\n\u001b[1;32m    610\u001b[0m \u001b[0;34m\u001b[0m\u001b[0m\n",
      "\u001b[0;32m/Users/mjaron/anaconda/lib/python2.7/site-packages/sklearn/externals/joblib/parallel.pyc\u001b[0m in \u001b[0;36m_dispatch\u001b[0;34m(self, batch)\u001b[0m\n\u001b[1;32m    569\u001b[0m         \u001b[0mdispatch_timestamp\u001b[0m \u001b[0;34m=\u001b[0m \u001b[0mtime\u001b[0m\u001b[0;34m.\u001b[0m\u001b[0mtime\u001b[0m\u001b[0;34m(\u001b[0m\u001b[0;34m)\u001b[0m\u001b[0;34m\u001b[0m\u001b[0m\n\u001b[1;32m    570\u001b[0m         \u001b[0mcb\u001b[0m \u001b[0;34m=\u001b[0m \u001b[0mBatchCompletionCallBack\u001b[0m\u001b[0;34m(\u001b[0m\u001b[0mdispatch_timestamp\u001b[0m\u001b[0;34m,\u001b[0m \u001b[0mlen\u001b[0m\u001b[0;34m(\u001b[0m\u001b[0mbatch\u001b[0m\u001b[0;34m)\u001b[0m\u001b[0;34m,\u001b[0m \u001b[0mself\u001b[0m\u001b[0;34m)\u001b[0m\u001b[0;34m\u001b[0m\u001b[0m\n\u001b[0;32m--> 571\u001b[0;31m         \u001b[0mjob\u001b[0m \u001b[0;34m=\u001b[0m \u001b[0mself\u001b[0m\u001b[0;34m.\u001b[0m\u001b[0m_backend\u001b[0m\u001b[0;34m.\u001b[0m\u001b[0mapply_async\u001b[0m\u001b[0;34m(\u001b[0m\u001b[0mbatch\u001b[0m\u001b[0;34m,\u001b[0m \u001b[0mcallback\u001b[0m\u001b[0;34m=\u001b[0m\u001b[0mcb\u001b[0m\u001b[0;34m)\u001b[0m\u001b[0;34m\u001b[0m\u001b[0m\n\u001b[0m\u001b[1;32m    572\u001b[0m         \u001b[0mself\u001b[0m\u001b[0;34m.\u001b[0m\u001b[0m_jobs\u001b[0m\u001b[0;34m.\u001b[0m\u001b[0mappend\u001b[0m\u001b[0;34m(\u001b[0m\u001b[0mjob\u001b[0m\u001b[0;34m)\u001b[0m\u001b[0;34m\u001b[0m\u001b[0m\n\u001b[1;32m    573\u001b[0m \u001b[0;34m\u001b[0m\u001b[0m\n",
      "\u001b[0;32m/Users/mjaron/anaconda/lib/python2.7/site-packages/sklearn/externals/joblib/_parallel_backends.pyc\u001b[0m in \u001b[0;36mapply_async\u001b[0;34m(self, func, callback)\u001b[0m\n\u001b[1;32m    107\u001b[0m     \u001b[0;32mdef\u001b[0m \u001b[0mapply_async\u001b[0m\u001b[0;34m(\u001b[0m\u001b[0mself\u001b[0m\u001b[0;34m,\u001b[0m \u001b[0mfunc\u001b[0m\u001b[0;34m,\u001b[0m \u001b[0mcallback\u001b[0m\u001b[0;34m=\u001b[0m\u001b[0mNone\u001b[0m\u001b[0;34m)\u001b[0m\u001b[0;34m:\u001b[0m\u001b[0;34m\u001b[0m\u001b[0m\n\u001b[1;32m    108\u001b[0m         \u001b[0;34m\"\"\"Schedule a func to be run\"\"\"\u001b[0m\u001b[0;34m\u001b[0m\u001b[0m\n\u001b[0;32m--> 109\u001b[0;31m         \u001b[0mresult\u001b[0m \u001b[0;34m=\u001b[0m \u001b[0mImmediateResult\u001b[0m\u001b[0;34m(\u001b[0m\u001b[0mfunc\u001b[0m\u001b[0;34m)\u001b[0m\u001b[0;34m\u001b[0m\u001b[0m\n\u001b[0m\u001b[1;32m    110\u001b[0m         \u001b[0;32mif\u001b[0m \u001b[0mcallback\u001b[0m\u001b[0;34m:\u001b[0m\u001b[0;34m\u001b[0m\u001b[0m\n\u001b[1;32m    111\u001b[0m             \u001b[0mcallback\u001b[0m\u001b[0;34m(\u001b[0m\u001b[0mresult\u001b[0m\u001b[0;34m)\u001b[0m\u001b[0;34m\u001b[0m\u001b[0m\n",
      "\u001b[0;32m/Users/mjaron/anaconda/lib/python2.7/site-packages/sklearn/externals/joblib/_parallel_backends.pyc\u001b[0m in \u001b[0;36m__init__\u001b[0;34m(self, batch)\u001b[0m\n\u001b[1;32m    320\u001b[0m         \u001b[0;31m# Don't delay the application, to avoid keeping the input\u001b[0m\u001b[0;34m\u001b[0m\u001b[0;34m\u001b[0m\u001b[0m\n\u001b[1;32m    321\u001b[0m         \u001b[0;31m# arguments in memory\u001b[0m\u001b[0;34m\u001b[0m\u001b[0;34m\u001b[0m\u001b[0m\n\u001b[0;32m--> 322\u001b[0;31m         \u001b[0mself\u001b[0m\u001b[0;34m.\u001b[0m\u001b[0mresults\u001b[0m \u001b[0;34m=\u001b[0m \u001b[0mbatch\u001b[0m\u001b[0;34m(\u001b[0m\u001b[0;34m)\u001b[0m\u001b[0;34m\u001b[0m\u001b[0m\n\u001b[0m\u001b[1;32m    323\u001b[0m \u001b[0;34m\u001b[0m\u001b[0m\n\u001b[1;32m    324\u001b[0m     \u001b[0;32mdef\u001b[0m \u001b[0mget\u001b[0m\u001b[0;34m(\u001b[0m\u001b[0mself\u001b[0m\u001b[0;34m)\u001b[0m\u001b[0;34m:\u001b[0m\u001b[0;34m\u001b[0m\u001b[0m\n",
      "\u001b[0;32m/Users/mjaron/anaconda/lib/python2.7/site-packages/sklearn/externals/joblib/parallel.pyc\u001b[0m in \u001b[0;36m__call__\u001b[0;34m(self)\u001b[0m\n\u001b[1;32m    129\u001b[0m \u001b[0;34m\u001b[0m\u001b[0m\n\u001b[1;32m    130\u001b[0m     \u001b[0;32mdef\u001b[0m \u001b[0m__call__\u001b[0m\u001b[0;34m(\u001b[0m\u001b[0mself\u001b[0m\u001b[0;34m)\u001b[0m\u001b[0;34m:\u001b[0m\u001b[0;34m\u001b[0m\u001b[0m\n\u001b[0;32m--> 131\u001b[0;31m         \u001b[0;32mreturn\u001b[0m \u001b[0;34m[\u001b[0m\u001b[0mfunc\u001b[0m\u001b[0;34m(\u001b[0m\u001b[0;34m*\u001b[0m\u001b[0margs\u001b[0m\u001b[0;34m,\u001b[0m \u001b[0;34m**\u001b[0m\u001b[0mkwargs\u001b[0m\u001b[0;34m)\u001b[0m \u001b[0;32mfor\u001b[0m \u001b[0mfunc\u001b[0m\u001b[0;34m,\u001b[0m \u001b[0margs\u001b[0m\u001b[0;34m,\u001b[0m \u001b[0mkwargs\u001b[0m \u001b[0;32min\u001b[0m \u001b[0mself\u001b[0m\u001b[0;34m.\u001b[0m\u001b[0mitems\u001b[0m\u001b[0;34m]\u001b[0m\u001b[0;34m\u001b[0m\u001b[0m\n\u001b[0m\u001b[1;32m    132\u001b[0m \u001b[0;34m\u001b[0m\u001b[0m\n\u001b[1;32m    133\u001b[0m     \u001b[0;32mdef\u001b[0m \u001b[0m__len__\u001b[0m\u001b[0;34m(\u001b[0m\u001b[0mself\u001b[0m\u001b[0;34m)\u001b[0m\u001b[0;34m:\u001b[0m\u001b[0;34m\u001b[0m\u001b[0m\n",
      "\u001b[0;32m/Users/mjaron/anaconda/lib/python2.7/site-packages/sklearn/model_selection/_validation.pyc\u001b[0m in \u001b[0;36m_fit_and_score\u001b[0;34m(estimator, X, y, scorer, train, test, verbose, parameters, fit_params, return_train_score, return_parameters, return_n_test_samples, return_times, error_score)\u001b[0m\n\u001b[1;32m    225\u001b[0m \u001b[0;34m\u001b[0m\u001b[0m\n\u001b[1;32m    226\u001b[0m     \u001b[0;32mif\u001b[0m \u001b[0mparameters\u001b[0m \u001b[0;32mis\u001b[0m \u001b[0;32mnot\u001b[0m \u001b[0mNone\u001b[0m\u001b[0;34m:\u001b[0m\u001b[0;34m\u001b[0m\u001b[0m\n\u001b[0;32m--> 227\u001b[0;31m         \u001b[0mestimator\u001b[0m\u001b[0;34m.\u001b[0m\u001b[0mset_params\u001b[0m\u001b[0;34m(\u001b[0m\u001b[0;34m**\u001b[0m\u001b[0mparameters\u001b[0m\u001b[0;34m)\u001b[0m\u001b[0;34m\u001b[0m\u001b[0m\n\u001b[0m\u001b[1;32m    228\u001b[0m \u001b[0;34m\u001b[0m\u001b[0m\n\u001b[1;32m    229\u001b[0m     \u001b[0mstart_time\u001b[0m \u001b[0;34m=\u001b[0m \u001b[0mtime\u001b[0m\u001b[0;34m.\u001b[0m\u001b[0mtime\u001b[0m\u001b[0;34m(\u001b[0m\u001b[0;34m)\u001b[0m\u001b[0;34m\u001b[0m\u001b[0m\n",
      "\u001b[0;32m/Users/mjaron/anaconda/lib/python2.7/site-packages/sklearn/base.pyc\u001b[0m in \u001b[0;36mset_params\u001b[0;34m(self, **params)\u001b[0m\n\u001b[1;32m    289\u001b[0m                                      \u001b[0;34m'Check the list of available parameters '\u001b[0m\u001b[0;34m\u001b[0m\u001b[0m\n\u001b[1;32m    290\u001b[0m                                      \u001b[0;34m'with `estimator.get_params().keys()`.'\u001b[0m \u001b[0;34m%\u001b[0m\u001b[0;34m\u001b[0m\u001b[0m\n\u001b[0;32m--> 291\u001b[0;31m                                      (key, self.__class__.__name__))\n\u001b[0m\u001b[1;32m    292\u001b[0m                 \u001b[0msetattr\u001b[0m\u001b[0;34m(\u001b[0m\u001b[0mself\u001b[0m\u001b[0;34m,\u001b[0m \u001b[0mkey\u001b[0m\u001b[0;34m,\u001b[0m \u001b[0mvalue\u001b[0m\u001b[0;34m)\u001b[0m\u001b[0;34m\u001b[0m\u001b[0m\n\u001b[1;32m    293\u001b[0m         \u001b[0;32mreturn\u001b[0m \u001b[0mself\u001b[0m\u001b[0;34m\u001b[0m\u001b[0m\n",
      "\u001b[0;31mValueError\u001b[0m: Invalid parameter gamma for estimator RandomForestClassifier. Check the list of available parameters with `estimator.get_params().keys()`."
     ]
    }
   ],
   "source": [
    "from sklearn.model_selection import validation_curve\n",
    "\n",
    "param_range = np.logspace(-6, -1, 5)\n",
    "train_scores, test_scores = validation_curve(\n",
    "    RF_main_model, X, Y, param_name=\"gamma\", param_range=param_range,\n",
    "    cv=10, scoring=\"accuracy\", n_jobs=1)\n",
    "train_scores_mean = np.mean(train_scores, axis=1)\n",
    "train_scores_std = np.std(train_scores, axis=1)\n",
    "test_scores_mean = np.mean(test_scores, axis=1)\n",
    "test_scores_std = np.std(test_scores, axis=1)\n",
    "\n",
    "plt.title(\"Validation Curve with RF\")\n",
    "plt.xlabel(\"$\\gamma$\")\n",
    "plt.ylabel(\"Score\")\n",
    "plt.ylim(0.0, 1.1)\n",
    "lw = 2\n",
    "plt.semilogx(param_range, train_scores_mean, label=\"Training score\",\n",
    "             color=\"darkorange\", lw=lw)\n",
    "plt.fill_between(param_range, train_scores_mean - train_scores_std,\n",
    "                 train_scores_mean + train_scores_std, alpha=0.2,\n",
    "                 color=\"darkorange\", lw=lw)\n",
    "plt.semilogx(param_range, test_scores_mean, label=\"Cross-validation score\",\n",
    "             color=\"navy\", lw=lw)\n",
    "plt.fill_between(param_range, test_scores_mean - test_scores_std,\n",
    "                 test_scores_mean + test_scores_std, alpha=0.2,\n",
    "                 color=\"navy\", lw=lw)\n",
    "plt.legend(loc=\"best\")\n",
    "plt.show()"
   ]
  },
  {
   "cell_type": "code",
   "execution_count": 1732,
   "metadata": {
    "collapsed": false
   },
   "outputs": [
    {
     "data": {
      "text/plain": [
       "\"\\n'micro':\\nCalculate metrics globally by counting the total true positives, false negatives and false positives.\\n'macro':\\nCalculate metrics for each label, and find their unweighted mean. This does not take label imbalance into account.\\n\""
      ]
     },
     "execution_count": 1732,
     "metadata": {},
     "output_type": "execute_result"
    }
   ],
   "source": [
    "## ROC curve\n",
    "\n",
    "from sklearn.datasets import make_classification\n",
    "from sklearn.model_selection import train_test_split\n",
    "from sklearn.metrics import roc_curve\n",
    "\n",
    "from sklearn.metrics import roc_curve, auc\n",
    "from sklearn.preprocessing import label_binarize\n",
    "from sklearn.multiclass import OneVsRestClassifier\n",
    "from scipy import interp\n",
    "from itertools import cycle\n",
    "\n",
    "def roc_curve_plot(X,Y, dependent, model):\n",
    "    # Binarize the output\n",
    "    y = label_binarize(Y, classes=[0, 1, 2])\n",
    "    if dependent == 'BP':\n",
    "        y = label_binarize(Y, classes=[0, 1, 2, 3])\n",
    "    n_classes = y.shape[1]\n",
    "\n",
    "    # shuffle and split training and test sets\n",
    "    X_train, X_validation, Y_train, Y_validation = train_test_split(X, y, test_size=.8,\n",
    "                                                        random_state=0)\n",
    "\n",
    "#     model = RandomForestClassifier()\n",
    "    classifier = OneVsRestClassifier(model)\n",
    "    y_score = classifier.fit(X_train, Y_train).predict_proba(X_validation)\n",
    "\n",
    "\n",
    "    # Compute ROC curve and ROC area for each class\n",
    "    fpr = dict()\n",
    "    tpr = dict()\n",
    "    roc_auc = dict()\n",
    "    for i in range(n_classes):\n",
    "        fpr[i], tpr[i], _ = roc_curve(Y_validation[:, i], y_score[:, i])\n",
    "        roc_auc[i] = auc(fpr[i], tpr[i])\n",
    "\n",
    "    # Compute micro-average ROC curve and ROC area\n",
    "    fpr[\"micro\"], tpr[\"micro\"], _ = roc_curve(Y_validation.ravel(), y_score.ravel())\n",
    "    roc_auc[\"micro\"] = auc(fpr[\"micro\"], tpr[\"micro\"])\n",
    "\n",
    "    # Compute macro-average ROC curve and ROC area\n",
    "\n",
    "    # First aggregate all false positive rates\n",
    "    all_fpr = np.unique(np.concatenate([fpr[i] for i in range(n_classes)]))\n",
    "\n",
    "    # Then interpolate all ROC curves at this points\n",
    "    mean_tpr = np.zeros_like(all_fpr)\n",
    "    for i in range(n_classes):\n",
    "        mean_tpr += interp(all_fpr, fpr[i], tpr[i])\n",
    "\n",
    "    # Finally average it and compute AUC\n",
    "    mean_tpr /= n_classes\n",
    "\n",
    "    fpr[\"macro\"] = all_fpr\n",
    "    tpr[\"macro\"] = mean_tpr\n",
    "    roc_auc[\"macro\"] = auc(fpr[\"macro\"], tpr[\"macro\"])\n",
    "\n",
    "    # Plot all ROC curves\n",
    "    plt.figure(figsize=(10,8))\n",
    "    plt.plot(fpr[\"micro\"], tpr[\"micro\"],\n",
    "             label='micro-average ROC curve (area = {0:0.2f})'\n",
    "                   ''.format(roc_auc[\"micro\"]),\n",
    "             color='deeppink', linestyle=':', linewidth=4)\n",
    "\n",
    "    plt.plot(fpr[\"macro\"], tpr[\"macro\"],\n",
    "             label='macro-average ROC curve (area = {0:0.2f})'\n",
    "                   ''.format(roc_auc[\"macro\"]),\n",
    "             color='navy', linestyle=':', linewidth=4)\n",
    "    \n",
    "    colors = cycle(['aqua', 'darkorange', 'cornflowerblue'])\n",
    "    if dependent == 'BP':\n",
    "        colors = cycle(['aqua', 'darkorange', 'cornflowerblue', 'darkgreen'])\n",
    "    for i, color in zip(range(n_classes), colors):\n",
    "        plt.plot(fpr[i], tpr[i], color=color, lw=lw,\n",
    "                 label='ROC curve of class {0} (area = {1:0.2f})'\n",
    "                 ''.format(i, roc_auc[i]))\n",
    "\n",
    "\n",
    "    plt.plot([0, 1], [0, 1], 'k--', lw=lw)\n",
    "    plt.xlim([0.0, 1.0])\n",
    "    plt.ylim([0.0, 1.05])\n",
    "    plt.xlabel('False Positive Rate')\n",
    "    plt.ylabel('True Positive Rate')\n",
    "    plt.title('Some extension of Receiver operating characteristic to multi-class  -'+dependent)\n",
    "    plt.legend(loc=\"lower right\")\n",
    "    plt.show()\n",
    "\n",
    "# roc_curve_plot(X,Y, dependent)   \n",
    "\n",
    "'''\n",
    "'micro':\n",
    "Calculate metrics globally by counting the total true positives, false negatives and false positives.\n",
    "'macro':\n",
    "Calculate metrics for each label, and find their unweighted mean. This does not take label imbalance into account.\n",
    "'''"
   ]
  },
  {
   "cell_type": "code",
   "execution_count": 1807,
   "metadata": {
    "collapsed": false
   },
   "outputs": [],
   "source": [
    "from sklearn.model_selection import learning_curve\n",
    "from sklearn.model_selection import ShuffleSplit\n",
    "\n",
    "def plot_learning_curve(estimator, title, X, y, ylim, cv=None,\n",
    "                        n_jobs=1, train_sizes=np.linspace(.1, 1.0, 5)):\n",
    "\n",
    "    plt.figure()\n",
    "    plt.title(title)\n",
    "    if ylim is not None:\n",
    "        plt.ylim(*ylim)\n",
    "    plt.xlabel(\"Training examples\")\n",
    "    plt.ylabel(\"Score\")\n",
    "    train_sizes, train_scores, test_scores = learning_curve(\n",
    "        estimator, X, y, cv=cv, n_jobs=n_jobs, train_sizes=train_sizes)\n",
    "    train_scores_mean = np.mean(train_scores, axis=1)\n",
    "    train_scores_std = np.std(train_scores, axis=1)\n",
    "    test_scores_mean = np.mean(test_scores, axis=1)\n",
    "    test_scores_std = np.std(test_scores, axis=1)\n",
    "    print \"slope \", (test_scores_mean[0] - test_scores_mean[-1]) / (train_sizes[0] - train_sizes[-1])\n",
    "    plt.grid()\n",
    "\n",
    "    plt.fill_between(train_sizes, train_scores_mean - train_scores_std,\n",
    "                     train_scores_mean + train_scores_std, alpha=0.1,\n",
    "                     color=\"r\")\n",
    "    plt.fill_between(train_sizes, test_scores_mean - test_scores_std,\n",
    "                     test_scores_mean + test_scores_std, alpha=0.1, color=\"g\")\n",
    "    plt.plot(train_sizes, train_scores_mean, 'o-', color=\"r\",\n",
    "             label=\"Training score\")\n",
    "    plt.plot(train_sizes, test_scores_mean, 'o-', color=\"g\",\n",
    "             label=\"Cross-validation score\")\n",
    "\n",
    "    plt.legend(loc=\"best\")\n",
    "    plt.show()\n",
    "#     return plt\n",
    "\n",
    "# title=dependent\n",
    "# cv = ShuffleSplit(n_splits=10, test_size=0.4, random_state=0)\n",
    "# plot_learning_curve(RF_main_model, title, X_train, Y_train, ylim=(0, 1.01), cv=cv, n_jobs=4)\n",
    "# plt.show()\n"
   ]
  },
  {
   "cell_type": "code",
   "execution_count": null,
   "metadata": {
    "collapsed": false
   },
   "outputs": [],
   "source": [
    "def plot12(y, predicted):\n",
    "    ax = fig.add_subplots()\n",
    "    ax.scatter(y, predicted)\n",
    "    ax.plot([y.min(), y.max()], [y.min(), y.max()], 'k--', lw=4)\n",
    "    ax.set_xlabel('Measured')\n",
    "    ax.set_ylabel('Predicted')\n",
    "\n",
    "    plt.show()"
   ]
  },
  {
   "cell_type": "code",
   "execution_count": null,
   "metadata": {
    "collapsed": false
   },
   "outputs": [],
   "source": [
    "dependent = 'lbxsgl'\n",
    "feature_list = model_data_dict[dependent].drop([dependent,'SEQN'], axis=1).columns.tolist()\n",
    "Y = np.array(model_data_dict[dependent][dependent])\n",
    "X = np.array(model_data_dict[dependent].drop([dependent,'SEQN'], axis=1))\n",
    "validation_size = 0.20\n",
    "seed = 7\n",
    "X_train, X_validation, Y_train, Y_validation = cross_validation.train_test_split(X, Y, \\\n",
    "                                                                test_size=validation_size, random_state=seed)\n",
    "y = Y_validation\n",
    "model.fit(X_train, Y_train) \n",
    "predicted = model.predict(X_validation)\n",
    "\n",
    "print \"hold out\"\n",
    "fig, ax = plt.subplots()\n",
    "ax.scatter(y, predicted)\n",
    "ax.plot([y.min(), y.max()], [y.min(), y.max()], 'k--', lw=4)\n",
    "ax.set_xlabel('Measured')\n",
    "ax.set_ylabel('Predicted')\n",
    "plt.show()\n",
    "\n",
    "model = RandomForestRegressor() \n",
    "# y = Y_train\n",
    "# predicted = cross_val_predict(model, X_train, Y_train, cv=10)\n",
    "predicted = cross_val_predict(model, X_validation, Y_validation, cv=10)\n",
    "\n",
    "\n",
    "print \"cross val\"\n",
    "fig, ax = plt.subplots()\n",
    "ax.scatter(y, predicted)\n",
    "ax.plot([y.min(), y.max()], [y.min(), y.max()], 'k--', lw=4)\n",
    "ax.set_xlabel('Measured')\n",
    "ax.set_ylabel('Predicted')\n",
    "plt.show()"
   ]
  },
  {
   "cell_type": "code",
   "execution_count": 1848,
   "metadata": {
    "collapsed": false,
    "scrolled": true
   },
   "outputs": [],
   "source": [
    "def feature_importance(model, X, feature_list, dependent, show_ranking=True, csv=False, show_plot=True):\n",
    "    importances = model.feature_importances_\n",
    "    std = np.std([tree.feature_importances_ for tree in model.estimators_],\n",
    "                 axis=0)\n",
    "    indices = np.argsort(importances)[::-1]\n",
    "#     print feature_list[1]\n",
    "    # Print the feature ranking\n",
    "    print(\"Feature ranking:\")\n",
    "    temp = []\n",
    "    temp1 = []\n",
    "    temp2 = []\n",
    "    for f in range(X.shape[1]):\n",
    "        if show_ranking:\n",
    "            print(\"%d. feature %d (%f)\" % (f + 1, indices[f], importances[indices[f]]))\n",
    "        temp.append(importances[indices[f]])\n",
    "        temp1.append(indices[f])\n",
    "        temp2.append(feature_list[indices[f]])\n",
    "            \n",
    "    if csv:\n",
    "        df = pd.DataFrame()\n",
    "        df[dependent+'_importance_rank'] = range(1,len(temp1)+1)\n",
    "        df['feature'] = temp1\n",
    "        df['important_score'] = temp\n",
    "        df['name'] = temp2\n",
    "        \n",
    "        df.to_csv(dependent+'_feature_importance.csv', index=False)\n",
    "\n",
    "    # Plot the feature importances of the forest\n",
    "    plt.figure(figsize=(15,5))\n",
    "#     ax = fig.add_subplot()\n",
    "#     plt.figure()\n",
    "    plt.title(\"Feature importances\")\n",
    "    plt.bar(range(X.shape[1]), importances[indices],\n",
    "           color=\"orange\", yerr=std[indices], align=\"center\")\n",
    "    plt.xticks(range(X.shape[1]), indices)\n",
    "    plt.xlim([-1, X.shape[1]])\n",
    "    if show_plot:\n",
    "        plt.show()\n",
    "    \n",
    "    return temp2\n",
    "# feature_importance(model, X, feature_list, dependent, ranking=True, csv=False)"
   ]
  },
  {
   "cell_type": "code",
   "execution_count": 349,
   "metadata": {
    "collapsed": false
   },
   "outputs": [],
   "source": [
    "# # Test options and evaluation metric\n",
    "# num_folds = 10 # 5 or 10 does not really change\n",
    "# num_instances = len(X_train)\n",
    "# seed = 7\n",
    "# scoring = 'accuracy'"
   ]
  },
  {
   "cell_type": "code",
   "execution_count": 361,
   "metadata": {
    "collapsed": false
   },
   "outputs": [
    {
     "name": "stdout",
     "output_type": "stream",
     "text": [
      "lbdldl\n",
      "Mean squared error: 1142.06\n",
      "Variance score: 0.05\n",
      "-913.699534189\n",
      "lbxsch\n",
      "Mean squared error: 2059.65\n",
      "Variance score: -0.29\n",
      "-1607.47468218\n",
      "lbxsgl\n",
      "Mean squared error: 436.53\n",
      "Variance score: -1.23\n",
      "-342.506539958\n",
      "lbxsca\n",
      "Mean squared error: 0.25\n",
      "Variance score: -0.84\n",
      "-0.200363847264\n",
      "lbxstr\n",
      "Mean squared error: 3652.24\n",
      "Variance score: -0.15\n",
      "-3007.87759916\n",
      "LBXIN\n",
      "Mean squared error: 86.77\n",
      "Variance score: -0.65\n",
      "-78.4147145006\n",
      "lbxsir\n",
      "Mean squared error: 1224.81\n",
      "Variance score: -0.15\n",
      "-1092.05936859\n"
     ]
    }
   ],
   "source": [
    "## PLS regression\n",
    "PLS_scores = {}\n",
    "for dependent in model_data_dict:\n",
    "    print dependent\n",
    "    if 'cat' in dependent:\n",
    "        categories = True\n",
    "        dependent = dependent[:dependent.find('_cat')]\n",
    "    else:\n",
    "        categories = False\n",
    "    feature_list = model_data_dict[dependent].drop([dependent,'SEQN'], axis=1).columns.tolist()\n",
    "#     print model_data_dict[dependent][dependent].head()\n",
    "    Y = np.array(model_data_dict[dependent][dependent])\n",
    "    X = np.array(model_data_dict[dependent].drop([dependent,'SEQN'], axis=1))\n",
    "    \n",
    "    validation_size = 0.20\n",
    "    seed = 7\n",
    "    X_train, X_validation, Y_train, Y_validation = cross_validation.train_test_split(X, Y, \\\n",
    "                                                                test_size=validation_size, random_state=seed)\n",
    "    pls2 = PLSRegression(n_components=1)\n",
    "    # pls2.fit(X_train, Y_train)\n",
    "    # PLSRegression(copy=True, max_iter=500, n_components=2, scale=True,\n",
    "    #         tol=1e-06)\n",
    "    # Y_pred = pls2.predict(X_validation)\n",
    "    x,y = pls2.fit_transform(X_train, Y_train)\n",
    "    # pls2.fit(x, y)\n",
    "#     print pls2.get_params(deep=True)\n",
    "    mse = regr_acc(X_validation, Y_validation, pls2) \n",
    "    score = cross_val_score(pls2, X_train, Y_train, cv=10, scoring='neg_mean_squared_error').mean()\n",
    "    print score\n",
    "    cv_predict = cross_val_predict(pls2, X_validation,Y_validation)\n",
    "    mse = np.mean((cv_predict- Y_validation) ** 2)\n",
    "    PLS_scores[dependent] = [{'HO':mse, \"CV\":score}]\n"
   ]
  },
  {
   "cell_type": "code",
   "execution_count": 362,
   "metadata": {
    "collapsed": false
   },
   "outputs": [
    {
     "name": "stdout",
     "output_type": "stream",
     "text": [
      "rf\n",
      "{'lbdldl': [{'HO': 1039.8927041173981, 'CV': -1006.4356018414852}], 'lbxsch': [{'HO': 1290.7724980386906, 'CV': -1263.5298719578661}], 'lbxsgl': [{'HO': 144.48448521533257, 'CV': -157.82880507613655}], 'lbxsca': [{'HO': 0.11963963912376542, 'CV': -0.11485489034169068}], 'lbxstr': [{'HO': 2577.0402812855555, 'CV': -2801.5379074985217}], 'LBXIN': [{'HO': 61.508824630924828, 'CV': -63.762009250496476}], 'lbxsir': [{'HO': 1096.8635840252352, 'CV': -1098.0911764645582}]}\n",
      "pls\n",
      "{'lbdldl': [{'HO': 1270.7816667108098, 'CV': -913.69953418888849}], 'lbxsch': [{'HO': 1593.0345682175723, 'CV': -1607.4746821822866}], 'lbxsgl': [{'HO': 428.42767507491266, 'CV': -342.5065399575933}], 'lbxsca': [{'HO': 0.2407476031190913, 'CV': -0.20036384726364589}], 'lbxstr': [{'HO': 3932.6172682466208, 'CV': -3007.8775991553339}], 'LBXIN': [{'HO': 61.037680389572365, 'CV': -78.414714500638397}], 'lbxsir': [{'HO': 1229.3013776579501, 'CV': -1092.0593685866172}]}\n"
     ]
    }
   ],
   "source": [
    "print 'rf'\n",
    "print RF_scores\n",
    "print 'pls'\n",
    "print PLS_scores"
   ]
  },
  {
   "cell_type": "code",
   "execution_count": 100,
   "metadata": {
    "collapsed": false
   },
   "outputs": [
    {
     "name": "stdout",
     "output_type": "stream",
     "text": [
      "('Coefficients: \\n', array([ -5.62529589e+00,  -1.12687637e-14,   4.19982494e+00,\n",
      "        -6.66793809e-02,  -2.54163417e+00,   8.27219850e-01,\n",
      "         4.89808510e-02,  -1.17603067e+00,   6.01857593e-01,\n",
      "         8.63450144e-02,  -3.17466223e-02,  -4.14812135e+00,\n",
      "         4.48066788e+00,  -8.88178420e-16,   0.00000000e+00,\n",
      "         0.00000000e+00,  -3.32546531e-01,   0.00000000e+00,\n",
      "         7.47039645e+00,  -7.47039645e+00,  -1.19057436e+00]))\n",
      "Mean squared error: 1147.00\n",
      "Variance score: 0.07\n"
     ]
    }
   ],
   "source": [
    "## start with the models\n",
    "regr = LinearRegression(fit_intercept=True, normalize=False)\n",
    "# kfold = cross_validation.KFold(n=num_instances, n_folds=num_folds, random_state=seed)\n",
    "\n",
    "# cv_results = cross_validation.cross_val_score(model, X_train, Y_train, cv=kfold, scoring=scoring)\n",
    "# Train the model using the training sets\n",
    "regr.fit(X_train, Y_train)\n",
    "\n",
    "predictions = regr.predict(X_validation)\n",
    "\n",
    "m = regr.coef_\n",
    "b = regr.intercept_\n",
    "# print \"formula: y = {0}x + {1}\".format(m,b)\n",
    "\n",
    "# print(accuracy_score(Y_validation, predictions))\n",
    "## row is the thing it is actually in, in this case lots of things are thought of as 4\n",
    "# print(confusion_matrix(Y_validation, predictions))\n",
    "# print(classification_report(Y_validation, predictions))\n",
    "\n",
    "# The coefficients\n",
    "print('Coefficients: \\n', regr.coef_)\n",
    "# The mean squared error\n",
    "print(\"Mean squared error: %.2f\"\n",
    "      % np.mean((regr.predict(X_validation) - Y_validation) ** 2))\n",
    "# Explained variance score: 1 is perfect prediction\n",
    "print('Variance score: %.2f' % regr.score(X_validation, Y_validation))\n",
    "\n",
    "y_pred = regr.predict(X_validation)\n",
    "# print y_pred\n",
    "# print Y_validation\n",
    "# print accuracy_score(Y_validation, y_pred)\n",
    "\n",
    "# cv = KFold(len(X_train), 10, shuffle=True, random_state=33)\n",
    "\n",
    "# #decf = LinearRegression.decision_function(train, target)\n",
    "# test = LinearRegression.predict(X_train, Y_train)\n",
    "# score = cross_val_score(regr,X_train, Y_train,cv=cv )\n",
    "\n",
    "# print(\"Score: {}\".format(score.mean()))"
   ]
  },
  {
   "cell_type": "code",
   "execution_count": 102,
   "metadata": {
    "collapsed": false
   },
   "outputs": [
    {
     "name": "stdout",
     "output_type": "stream",
     "text": [
      "Mean squared error: 1146.68\n",
      "Variance score: 0.07\n"
     ]
    }
   ],
   "source": [
    "from sklearn.kernel_ridge import KernelRidge\n",
    "n_samples, n_features = 10, 5\n",
    "clf = KernelRidge(alpha=1.0)\n",
    "clf.fit(X_train, Y_train) \n",
    "# KernelRidge(alpha=1.0, coef0=1, degree=3, gamma=None, kernel='linear',\n",
    "#             kernel_params=None)\n",
    "regr_acc(X_validation, Y_validation, clf)\n",
    "# y_kr = clf.predict(X_train)"
   ]
  },
  {
   "cell_type": "code",
   "execution_count": 25,
   "metadata": {
    "collapsed": false
   },
   "outputs": [
    {
     "name": "stdout",
     "output_type": "stream",
     "text": [
      "1543.8580163\n",
      "Mean squared error: 1543.86\n",
      "Variance score: -0.17\n",
      "-0.137081537702\n"
     ]
    }
   ],
   "source": [
    "## random forest\n",
    "model = RandomForestRegressor()\n",
    "model.fit(X_train, Y_train) \n",
    "prediction = model.predict(X_validation)\n",
    "# print prediction\n",
    "print mean_squared_error(Y_validation, prediction)\n",
    "regr_acc(X_validation, Y_validation, model)\n",
    "\n",
    "# model = RandomForestRegressor(random_state=0, n_estimators=100)\n",
    "score = cross_val_score(model, X_train, Y_train).mean()\n",
    "print score\n",
    "# regr_acc(X_validation, Y_validation, model)\n",
    "\n",
    "\n",
    "## from article\n",
    "# from sklearn.metrics import roc_curve, auc\n",
    "# model = RandomForestClassifier(n_estimators=1000) \n",
    "# model.fit(X_train, Y_train) \n",
    "# disbursed = model.predict_proba(X_validation) \n",
    "# # fpr, tpr, _ = roc_curve(Y_validation, disbursed[:,1]) \n",
    "# # roc_auc = auc(fpr, tpr) \n",
    "# # print roc_auc\n",
    "# predictions = model.predict(X_validation)\n",
    "# print(accuracy_score(Y_validation, predictions))\n",
    "# ## row is the thing it is actually in, in this case lots of things are thought of as 4\n",
    "# print(confusion_matrix(Y_validation, predictions))\n",
    "# print(classification_report(Y_validation, predictions))"
   ]
  },
  {
   "cell_type": "code",
   "execution_count": 166,
   "metadata": {
    "collapsed": false
   },
   "outputs": [
    {
     "name": "stdout",
     "output_type": "stream",
     "text": [
      "['ACD010A', 'OCD150', 'OCQ180', 'DMDBORN', 'DMDEDUC2', 'DMDEDUC3', 'DMDHHSIZ', 'DMDHSEDU', 'INDFMIN2', 'RIDAGEYR', 'DMDMARTL_Married', 'DMDMARTL_Never_married', 'RIAGENDR_Male', 'RIAGENDR_Female', 'HID010']\n",
      "Feature ranking:\n",
      "1. feature 9 (0.288191)\n",
      "2. feature 6 (0.114767)\n",
      "3. feature 7 (0.104133)\n",
      "4. feature 2 (0.089177)\n",
      "5. feature 8 (0.079074)\n",
      "6. feature 4 (0.068807)\n",
      "7. feature 5 (0.047330)\n",
      "8. feature 1 (0.045086)\n",
      "9. feature 14 (0.042729)\n",
      "10. feature 0 (0.037655)\n",
      "11. feature 12 (0.024754)\n",
      "12. feature 3 (0.020457)\n",
      "13. feature 10 (0.015813)\n",
      "14. feature 11 (0.011734)\n",
      "15. feature 13 (0.010293)\n"
     ]
    },
    {
     "data": {
      "image/png": "[encoded data removed]",
      "text/plain": [
       "<matplotlib.figure.Figure at 0x11e3e6110>"
      ]
     },
     "metadata": {},
     "output_type": "display_data"
    }
   ],
   "source": [
    "# importances = model.feature_importances_\n",
    "# std = np.std([tree.feature_importances_ for tree in model.estimators_],\n",
    "#              axis=0)\n",
    "# indices = np.argsort(importances)[::-1]\n",
    "\n",
    "# print feature_list\n",
    "# # Print the feature ranking\n",
    "# print(\"Feature ranking:\")\n",
    "\n",
    "# for f in range(X.shape[1]):\n",
    "#     print(\"%d. feature %d (%f)\" % (f + 1, indices[f], importances[indices[f]]))\n",
    "\n",
    "# # Plot the feature importances of the forest\n",
    "# plt.figure()\n",
    "# plt.title(\"Feature importances\")\n",
    "# plt.bar(range(X.shape[1]), importances[indices],\n",
    "#        color=\"r\", yerr=std[indices], align=\"center\")\n",
    "# plt.xticks(range(X.shape[1]), indices)\n",
    "# plt.xlim([-1, X.shape[1]])\n",
    "# plt.show()"
   ]
  },
  {
   "cell_type": "code",
   "execution_count": 451,
   "metadata": {
    "collapsed": false
   },
   "outputs": [
    {
     "ename": "SyntaxError",
     "evalue": "invalid syntax (<ipython-input-451-c464883e0486>, line 5)",
     "output_type": "error",
     "traceback": [
      "\u001b[0;36m  File \u001b[0;32m\"<ipython-input-451-c464883e0486>\"\u001b[0;36m, line \u001b[0;32m5\u001b[0m\n\u001b[0;31m    which ipython\u001b[0m\n\u001b[0m                ^\u001b[0m\n\u001b[0;31mSyntaxError\u001b[0m\u001b[0;31m:\u001b[0m invalid syntax\n"
     ]
    }
   ],
   "source": [
    "# print(\"Mean squared error: %.2f\"\n",
    "#       % np.mean((y_kr - Y_validation) ** 2))\n",
    "# Explained variance score: 1 is perfect prediction\n",
    "# print('Variance score: %.2f' % clf.score(X_validation, Y_validation))\n"
   ]
  },
  {
   "cell_type": "code",
   "execution_count": 390,
   "metadata": {
    "collapsed": false
   },
   "outputs": [
    {
     "name": "stdout",
     "output_type": "stream",
     "text": [
      "647.5 0.14 13.6888352529 10.08 14.8361772772\n",
      "7 19970\n"
     ]
    },
    {
     "data": {
      "image/png": "[encoded data removed]",
      "text/plain": [
       "<matplotlib.figure.Figure at 0x126194090>"
      ]
     },
     "metadata": {},
     "output_type": "display_data"
    }
   ],
   "source": [
    "# print len(X_validation), len(Y_validation)\n",
    "# # Plot outputs\n",
    "plt.scatter(predictions, Y_validation,  color='black')\n",
    "plt.ylim(0, 100)\n",
    "# plt.plot(Y_validation, predictions, color='blue',\n",
    "#          linewidth=3)\n",
    "\n",
    "# plt.xticks(())\n",
    "# plt.yticks(())\n",
    "\n",
    "# plt.show()\n",
    "# # print cv_results\n",
    "print max(Y_train), min(Y_train), np.mean(Y_train), np.median(Y_train), np.std(Y_train)\n",
    "print len(Y_train[Y_train > 250]), len(Y_train)\n",
    "# plt.hist(Y_train, bins=100, range=(0,100))\n",
    "# plt.show()"
   ]
  },
  {
   "cell_type": "code",
   "execution_count": 423,
   "metadata": {
    "collapsed": false
   },
   "outputs": [
    {
     "name": "stdout",
     "output_type": "stream",
     "text": [
      "ACD010A\n"
     ]
    },
    {
     "data": {
      "image/png": "[encoded data removed]",
      "text/plain": [
       "<matplotlib.figure.Figure at 0x1264971d0>"
      ]
     },
     "metadata": {},
     "output_type": "display_data"
    },
    {
     "name": "stdout",
     "output_type": "stream",
     "text": [
      "ACD010B\n"
     ]
    },
    {
     "data": {
      "image/png": "[encoded data removed]",
      "text/plain": [
       "<matplotlib.figure.Figure at 0x1282cead0>"
      ]
     },
     "metadata": {},
     "output_type": "display_data"
    },
    {
     "name": "stdout",
     "output_type": "stream",
     "text": [
      "SEQN\n"
     ]
    },
    {
     "data": {
      "image/png": "[encoded data removed]",
      "text/plain": [
       "<matplotlib.figure.Figure at 0x1258dde90>"
      ]
     },
     "metadata": {},
     "output_type": "display_data"
    },
    {
     "name": "stdout",
     "output_type": "stream",
     "text": [
      "OCD150\n"
     ]
    },
    {
     "data": {
      "image/png": "[encoded data removed]",
      "text/plain": [
       "<matplotlib.figure.Figure at 0x128f23a50>"
      ]
     },
     "metadata": {},
     "output_type": "display_data"
    },
    {
     "name": "stdout",
     "output_type": "stream",
     "text": [
      "OCQ180\n"
     ]
    },
    {
     "data": {
      "image/png": "[encoded data removed]",
      "text/plain": [
       "<matplotlib.figure.Figure at 0x121900a10>"
      ]
     },
     "metadata": {},
     "output_type": "display_data"
    },
    {
     "name": "stdout",
     "output_type": "stream",
     "text": [
      "DMDBORN\n"
     ]
    },
    {
     "data": {
      "image/png": "[encoded data removed]",
      "text/plain": [
       "<matplotlib.figure.Figure at 0x12670c410>"
      ]
     },
     "metadata": {},
     "output_type": "display_data"
    },
    {
     "name": "stdout",
     "output_type": "stream",
     "text": [
      "DMDEDUC2\n"
     ]
    },
    {
     "data": {
      "image/png": "[encoded data removed]",
      "text/plain": [
       "<matplotlib.figure.Figure at 0x125bb6bd0>"
      ]
     },
     "metadata": {},
     "output_type": "display_data"
    },
    {
     "name": "stdout",
     "output_type": "stream",
     "text": [
      "DMDEDUC3\n"
     ]
    },
    {
     "data": {
      "image/png": "[encoded data removed]",
      "text/plain": [
       "<matplotlib.figure.Figure at 0x128f50510>"
      ]
     },
     "metadata": {},
     "output_type": "display_data"
    },
    {
     "name": "stdout",
     "output_type": "stream",
     "text": [
      "DMDHHSIZ\n"
     ]
    },
    {
     "data": {
      "image/png": "[encoded data removed]",
      "text/plain": [
       "<matplotlib.figure.Figure at 0x126912150>"
      ]
     },
     "metadata": {},
     "output_type": "display_data"
    },
    {
     "name": "stdout",
     "output_type": "stream",
     "text": [
      "DMDHHSZA\n"
     ]
    },
    {
     "data": {
      "image/png": "[encoded data removed]",
      "text/plain": [
       "<matplotlib.figure.Figure at 0x12815cbd0>"
      ]
     },
     "metadata": {},
     "output_type": "display_data"
    },
    {
     "name": "stdout",
     "output_type": "stream",
     "text": [
      "DMDHHSZB\n"
     ]
    },
    {
     "data": {
      "image/png": "[encoded data removed]",
      "text/plain": [
       "<matplotlib.figure.Figure at 0x125c37390>"
      ]
     },
     "metadata": {},
     "output_type": "display_data"
    },
    {
     "name": "stdout",
     "output_type": "stream",
     "text": [
      "DMDHHSZE\n"
     ]
    },
    {
     "data": {
      "image/png": "[encoded data removed]",
      "text/plain": [
       "<matplotlib.figure.Figure at 0x128575590>"
      ]
     },
     "metadata": {},
     "output_type": "display_data"
    },
    {
     "name": "stdout",
     "output_type": "stream",
     "text": [
      "DMDHSEDU\n"
     ]
    },
    {
     "data": {
      "image/png": "[encoded data removed]",
      "text/plain": [
       "<matplotlib.figure.Figure at 0x12823a690>"
      ]
     },
     "metadata": {},
     "output_type": "display_data"
    },
    {
     "name": "stdout",
     "output_type": "stream",
     "text": [
      "INDFMIN2\n"
     ]
    },
    {
     "data": {
      "image/png": "[encoded data removed]",
      "text/plain": [
       "<matplotlib.figure.Figure at 0x128575cd0>"
      ]
     },
     "metadata": {},
     "output_type": "display_data"
    },
    {
     "name": "stdout",
     "output_type": "stream",
     "text": [
      "RIDAGEYR\n"
     ]
    },
    {
     "data": {
      "image/png": "[encoded data removed]",
      "text/plain": [
       "<matplotlib.figure.Figure at 0x125b6a390>"
      ]
     },
     "metadata": {},
     "output_type": "display_data"
    },
    {
     "name": "stdout",
     "output_type": "stream",
     "text": [
      "DMDMARTL_Missing\n"
     ]
    },
    {
     "data": {
      "image/png": "[encoded data removed]",
      "text/plain": [
       "<matplotlib.figure.Figure at 0x125bb6f10>"
      ]
     },
     "metadata": {},
     "output_type": "display_data"
    },
    {
     "name": "stdout",
     "output_type": "stream",
     "text": [
      "DMDMARTL_Married\n"
     ]
    },
    {
     "data": {
      "image/png": "[encoded data removed]",
      "text/plain": [
       "<matplotlib.figure.Figure at 0x12827be90>"
      ]
     },
     "metadata": {},
     "output_type": "display_data"
    },
    {
     "name": "stdout",
     "output_type": "stream",
     "text": [
      "DMDMARTL_Widowed\n"
     ]
    },
    {
     "data": {
      "image/png": "[encoded data removed]",
      "text/plain": [
       "<matplotlib.figure.Figure at 0x126886550>"
      ]
     },
     "metadata": {},
     "output_type": "display_data"
    },
    {
     "name": "stdout",
     "output_type": "stream",
     "text": [
      "DMDMARTL_Divorced\n"
     ]
    },
    {
     "data": {
      "image/png": "[encoded data removed]",
      "text/plain": [
       "<matplotlib.figure.Figure at 0x1282dc550>"
      ]
     },
     "metadata": {},
     "output_type": "display_data"
    },
    {
     "name": "stdout",
     "output_type": "stream",
     "text": [
      "DMDMARTL_Separated\n"
     ]
    },
    {
     "data": {
      "image/png": "[encoded data removed]",
      "text/plain": [
       "<matplotlib.figure.Figure at 0x12611cad0>"
      ]
     },
     "metadata": {},
     "output_type": "display_data"
    },
    {
     "name": "stdout",
     "output_type": "stream",
     "text": [
      "DMDMARTL_Never_married\n"
     ]
    },
    {
     "data": {
      "image/png": "[encoded data removed]",
      "text/plain": [
       "<matplotlib.figure.Figure at 0x126922510>"
      ]
     },
     "metadata": {},
     "output_type": "display_data"
    },
    {
     "name": "stdout",
     "output_type": "stream",
     "text": [
      "DMDMARTL_Living_with_partner\n"
     ]
    },
    {
     "data": {
      "image/png": "[encoded data removed]",
      "text/plain": [
       "<matplotlib.figure.Figure at 0x12677c290>"
      ]
     },
     "metadata": {},
     "output_type": "display_data"
    },
    {
     "name": "stdout",
     "output_type": "stream",
     "text": [
      "RIAGENDR_Male\n"
     ]
    },
    {
     "data": {
      "image/png": "[encoded data removed]",
      "text/plain": [
       "<matplotlib.figure.Figure at 0x126357a10>"
      ]
     },
     "metadata": {},
     "output_type": "display_data"
    },
    {
     "name": "stdout",
     "output_type": "stream",
     "text": [
      "RIAGENDR_Female\n"
     ]
    },
    {
     "data": {
      "image/png": "[encoded data removed]",
      "text/plain": [
       "<matplotlib.figure.Figure at 0x1282867d0>"
      ]
     },
     "metadata": {},
     "output_type": "display_data"
    },
    {
     "name": "stdout",
     "output_type": "stream",
     "text": [
      "HID010\n"
     ]
    },
    {
     "data": {
      "image/png": "[encoded data removed]",
      "text/plain": [
       "<matplotlib.figure.Figure at 0x126767150>"
      ]
     },
     "metadata": {},
     "output_type": "display_data"
    },
    {
     "name": "stdout",
     "output_type": "stream",
     "text": [
      "LBXIN\n"
     ]
    },
    {
     "data": {
      "image/png": "[encoded data removed]",
      "text/plain": [
       "<matplotlib.figure.Figure at 0x12689c510>"
      ]
     },
     "metadata": {},
     "output_type": "display_data"
    }
   ],
   "source": [
    "temp = model_data_dict[dependent]\n",
    "# print temp.columns.tolist()\n",
    "for i in temp.columns.tolist():\n",
    "    print i\n",
    "    plt.hist(temp[i])\n",
    "    plt.xlabel(i)\n",
    "    plt.show()"
   ]
  },
  {
   "cell_type": "code",
   "execution_count": 245,
   "metadata": {
    "collapsed": false,
    "scrolled": true
   },
   "outputs": [
    {
     "name": "stdout",
     "output_type": "stream",
     "text": [
      "['L10AM']\n",
      "24963\n",
      "24963\n"
     ]
    }
   ],
   "source": [
    "print model_data_dict.keys()\n",
    "# print model_data_dict['L10AM']['LBXIN'].head(90)\n",
    "\n",
    "print len(model_data_dict['L10AM']['LBXIN'])\n",
    "print len(model_data_dict['L10AM'].dropna())\n",
    "# model_data_dict['L10AM'].to_csv('insulin_test.csv', index=False)"
   ]
  },
  {
   "cell_type": "code",
   "execution_count": 30,
   "metadata": {
    "collapsed": false
   },
   "outputs": [
    {
     "name": "stderr",
     "output_type": "stream",
     "text": [
      "/Users/mjaron/anaconda/lib/python2.7/site-packages/ipykernel/__main__.py:10: FutureWarning: sort is deprecated, use sort_values(inplace=True) for INPLACE sorting\n"
     ]
    },
    {
     "name": "stdout",
     "output_type": "stream",
     "text": [
      "-0.0522267492639\n",
      "ACD010A    -0.032938\n",
      "ACD010B    -0.000931\n",
      "SEQN        0.010658\n",
      "OCD150     -0.052969\n",
      "OCQ180      0.000366\n",
      "DMDEDUC2   -0.056605\n",
      "DMDEDUC3   -0.051344\n",
      "DMDHHSIZ    0.015423\n",
      "DMDHHSZA    0.006995\n",
      "DMDHHSZB    0.030653\n",
      "DMDHHSZE   -0.003511\n",
      "DMDHSEDU   -0.067991\n",
      "DMDMARTL   -0.002127\n",
      "INDFMIN2   -0.052227\n",
      "RIAGENDR   -0.004501\n",
      "RIDAGEYR   -0.000491\n",
      "HID010      0.002013\n",
      "LBXIN       1.000000\n",
      "Name: LBXIN, dtype: float64\n"
     ]
    },
    {
     "data": {
      "image/png": "[encoded data removed]",
      "text/plain": [
       "<matplotlib.figure.Figure at 0x118a43c50>"
      ]
     },
     "metadata": {},
     "output_type": "display_data"
    }
   ],
   "source": [
    "## correlations\n",
    "df = model_data_dict['L10AM']\n",
    "x = 'INDFMIN2'\n",
    "y = 'LBXIN'\n",
    "plt.scatter(df[x], df[y])\n",
    "# plt.ylabel(y)\n",
    "# plt.xlabel(x)\n",
    "a = df.corr()\n",
    "# print a\n",
    "b = a[y].dropna()\n",
    "b.sort(ascending=True, kind='quicksort', na_position='last', inplace=False)\n",
    "print b[x] #dr1tsugr + dr1ttfat + dr1tcarb + dr1tprot + dr1tkcal\n",
    "print b\n",
    "\n",
    "# print master.head()\n",
    "# print master['LBXIN_y'].head()\n",
    "# print filt_data_dict.keys()\n",
    "\n",
    "# print filt_data_dict['L10AM_C_2003_2004']"
   ]
  },
  {
   "cell_type": "code",
   "execution_count": 61,
   "metadata": {
    "collapsed": false
   },
   "outputs": [
    {
     "name": "stdout",
     "output_type": "stream",
     "text": [
      "2.0 9965.0\n",
      "9966.0 21004.0\n",
      "21005.0 31125.0\n",
      "31130.0 41474.0\n",
      "41475.0 51623.0\n"
     ]
    }
   ],
   "source": [
    "## if needed to change NaN to 0\n",
    "# a = filt_data_dict['ACQ_B_2001_2002']\n",
    "# a.fillna(value=0)\n",
    "\n",
    "## proof that seqn are different for all years\n",
    "print min(filt_data_dict['OCQ_1999_2000']['SEQN']), max(filt_data_dict['OCQ_1999_2000']['SEQN'])\n",
    "print min(filt_data_dict['OCQ_B_2001_2002']['SEQN']), max(filt_data_dict['OCQ_B_2001_2002']['SEQN'])\n",
    "print min(filt_data_dict['OCQ_C_2003_2004']['SEQN']), max(filt_data_dict['OCQ_C_2003_2004']['SEQN'])\n",
    "print min(filt_data_dict['OCQ_D_2005_2006']['SEQN']), max(filt_data_dict['OCQ_D_2005_2006']['SEQN'])\n",
    "print min(filt_data_dict['OCQ_E_2007_2008']['SEQN']), max(filt_data_dict['OCQ_E_2007_2008']['SEQN'])"
   ]
  },
  {
   "cell_type": "code",
   "execution_count": 191,
   "metadata": {
    "collapsed": false
   },
   "outputs": [],
   "source": [
    "# data_dict.keys()"
   ]
  },
  {
   "cell_type": "code",
   "execution_count": 47,
   "metadata": {
    "collapsed": false
   },
   "outputs": [
    {
     "data": {
      "text/html": [
       "<div>\n",
       "<table border=\"1\" class=\"dataframe\">\n",
       "  <thead>\n",
       "    <tr style=\"text-align: right;\">\n",
       "      <th></th>\n",
       "      <th>OCD150</th>\n",
       "      <th>OCQ180</th>\n",
       "      <th>SEQN</th>\n",
       "    </tr>\n",
       "  </thead>\n",
       "  <tbody>\n",
       "    <tr>\n",
       "      <th>count</th>\n",
       "      <td>45050.000000</td>\n",
       "      <td>25549.000000</td>\n",
       "      <td>52355.000000</td>\n",
       "    </tr>\n",
       "    <tr>\n",
       "      <th>mean</th>\n",
       "      <td>0.500200</td>\n",
       "      <td>39.360132</td>\n",
       "      <td>40946.475255</td>\n",
       "    </tr>\n",
       "    <tr>\n",
       "      <th>std</th>\n",
       "      <td>0.500006</td>\n",
       "      <td>15.063494</td>\n",
       "      <td>24355.038199</td>\n",
       "    </tr>\n",
       "    <tr>\n",
       "      <th>min</th>\n",
       "      <td>0.000000</td>\n",
       "      <td>1.000000</td>\n",
       "      <td>2.000000</td>\n",
       "    </tr>\n",
       "    <tr>\n",
       "      <th>25%</th>\n",
       "      <td>NaN</td>\n",
       "      <td>NaN</td>\n",
       "      <td>19602.000000</td>\n",
       "    </tr>\n",
       "    <tr>\n",
       "      <th>50%</th>\n",
       "      <td>NaN</td>\n",
       "      <td>NaN</td>\n",
       "      <td>41300.000000</td>\n",
       "    </tr>\n",
       "    <tr>\n",
       "      <th>75%</th>\n",
       "      <td>NaN</td>\n",
       "      <td>NaN</td>\n",
       "      <td>61452.000000</td>\n",
       "    </tr>\n",
       "    <tr>\n",
       "      <th>max</th>\n",
       "      <td>1.000000</td>\n",
       "      <td>133.000000</td>\n",
       "      <td>83729.000000</td>\n",
       "    </tr>\n",
       "  </tbody>\n",
       "</table>\n",
       "</div>"
      ],
      "text/plain": [
       "             OCD150        OCQ180          SEQN\n",
       "count  45050.000000  25549.000000  52355.000000\n",
       "mean       0.500200     39.360132  40946.475255\n",
       "std        0.500006     15.063494  24355.038199\n",
       "min        0.000000      1.000000      2.000000\n",
       "25%             NaN           NaN  19602.000000\n",
       "50%             NaN           NaN  41300.000000\n",
       "75%             NaN           NaN  61452.000000\n",
       "max        1.000000    133.000000  83729.000000"
      ]
     },
     "execution_count": 47,
     "metadata": {},
     "output_type": "execute_result"
    }
   ],
   "source": [
    "combinded_var_dict['OCQ'].describe()"
   ]
  },
  {
   "cell_type": "code",
   "execution_count": 89,
   "metadata": {
    "collapsed": false
   },
   "outputs": [
    {
     "data": {
      "text/html": [
       "<div>\n",
       "<table border=\"1\" class=\"dataframe\">\n",
       "  <thead>\n",
       "    <tr style=\"text-align: right;\">\n",
       "      <th></th>\n",
       "      <th>ACD010A</th>\n",
       "      <th>ACD010B</th>\n",
       "      <th>SEQN</th>\n",
       "      <th>OCD150</th>\n",
       "      <th>OCQ180</th>\n",
       "      <th>DMDBORN</th>\n",
       "      <th>DMDEDUC2</th>\n",
       "      <th>DMDEDUC3</th>\n",
       "      <th>DMDHHSIZ</th>\n",
       "      <th>DMDHHSZA</th>\n",
       "      <th>DMDHHSZB</th>\n",
       "      <th>DMDHHSZE</th>\n",
       "      <th>DMDHSEDU</th>\n",
       "      <th>DMDMARTL</th>\n",
       "      <th>INDFMIN2</th>\n",
       "      <th>RIAGENDR</th>\n",
       "      <th>RIDAGEYR</th>\n",
       "      <th>HID010</th>\n",
       "    </tr>\n",
       "  </thead>\n",
       "  <tbody>\n",
       "    <tr>\n",
       "      <th>0</th>\n",
       "      <td>1.0</td>\n",
       "      <td>0.0</td>\n",
       "      <td>73557.0</td>\n",
       "      <td>0.0</td>\n",
       "      <td>NaN</td>\n",
       "      <td>1.0</td>\n",
       "      <td>3.0</td>\n",
       "      <td>NaN</td>\n",
       "      <td>3.0</td>\n",
       "      <td>5.397605e-79</td>\n",
       "      <td>5.397605e-79</td>\n",
       "      <td>2.000000e+00</td>\n",
       "      <td>NaN</td>\n",
       "      <td>4.0</td>\n",
       "      <td>4.0</td>\n",
       "      <td>1.0</td>\n",
       "      <td>69.0</td>\n",
       "      <td>NaN</td>\n",
       "    </tr>\n",
       "    <tr>\n",
       "      <th>1</th>\n",
       "      <td>1.0</td>\n",
       "      <td>0.0</td>\n",
       "      <td>73558.0</td>\n",
       "      <td>1.0</td>\n",
       "      <td>50.0</td>\n",
       "      <td>1.0</td>\n",
       "      <td>3.0</td>\n",
       "      <td>NaN</td>\n",
       "      <td>4.0</td>\n",
       "      <td>5.397605e-79</td>\n",
       "      <td>2.000000e+00</td>\n",
       "      <td>5.397605e-79</td>\n",
       "      <td>1.0</td>\n",
       "      <td>1.0</td>\n",
       "      <td>7.0</td>\n",
       "      <td>1.0</td>\n",
       "      <td>54.0</td>\n",
       "      <td>NaN</td>\n",
       "    </tr>\n",
       "    <tr>\n",
       "      <th>2</th>\n",
       "      <td>1.0</td>\n",
       "      <td>0.0</td>\n",
       "      <td>73559.0</td>\n",
       "      <td>0.0</td>\n",
       "      <td>NaN</td>\n",
       "      <td>1.0</td>\n",
       "      <td>4.0</td>\n",
       "      <td>NaN</td>\n",
       "      <td>2.0</td>\n",
       "      <td>5.397605e-79</td>\n",
       "      <td>5.397605e-79</td>\n",
       "      <td>2.000000e+00</td>\n",
       "      <td>3.0</td>\n",
       "      <td>1.0</td>\n",
       "      <td>10.0</td>\n",
       "      <td>1.0</td>\n",
       "      <td>72.0</td>\n",
       "      <td>NaN</td>\n",
       "    </tr>\n",
       "    <tr>\n",
       "      <th>3</th>\n",
       "      <td>1.0</td>\n",
       "      <td>0.0</td>\n",
       "      <td>73560.0</td>\n",
       "      <td>NaN</td>\n",
       "      <td>NaN</td>\n",
       "      <td>1.0</td>\n",
       "      <td>NaN</td>\n",
       "      <td>3.0</td>\n",
       "      <td>4.0</td>\n",
       "      <td>5.397605e-79</td>\n",
       "      <td>2.000000e+00</td>\n",
       "      <td>5.397605e-79</td>\n",
       "      <td>4.0</td>\n",
       "      <td>NaN</td>\n",
       "      <td>9.0</td>\n",
       "      <td>1.0</td>\n",
       "      <td>9.0</td>\n",
       "      <td>NaN</td>\n",
       "    </tr>\n",
       "    <tr>\n",
       "      <th>4</th>\n",
       "      <td>1.0</td>\n",
       "      <td>0.0</td>\n",
       "      <td>73561.0</td>\n",
       "      <td>0.0</td>\n",
       "      <td>NaN</td>\n",
       "      <td>1.0</td>\n",
       "      <td>5.0</td>\n",
       "      <td>NaN</td>\n",
       "      <td>2.0</td>\n",
       "      <td>5.397605e-79</td>\n",
       "      <td>5.397605e-79</td>\n",
       "      <td>2.000000e+00</td>\n",
       "      <td>5.0</td>\n",
       "      <td>1.0</td>\n",
       "      <td>15.0</td>\n",
       "      <td>2.0</td>\n",
       "      <td>73.0</td>\n",
       "      <td>NaN</td>\n",
       "    </tr>\n",
       "  </tbody>\n",
       "</table>\n",
       "</div>"
      ],
      "text/plain": [
       "   ACD010A  ACD010B     SEQN  OCD150  OCQ180  DMDBORN  DMDEDUC2  DMDEDUC3  \\\n",
       "0      1.0      0.0  73557.0     0.0     NaN      1.0       3.0       NaN   \n",
       "1      1.0      0.0  73558.0     1.0    50.0      1.0       3.0       NaN   \n",
       "2      1.0      0.0  73559.0     0.0     NaN      1.0       4.0       NaN   \n",
       "3      1.0      0.0  73560.0     NaN     NaN      1.0       NaN       3.0   \n",
       "4      1.0      0.0  73561.0     0.0     NaN      1.0       5.0       NaN   \n",
       "\n",
       "   DMDHHSIZ      DMDHHSZA      DMDHHSZB      DMDHHSZE  DMDHSEDU  DMDMARTL  \\\n",
       "0       3.0  5.397605e-79  5.397605e-79  2.000000e+00       NaN       4.0   \n",
       "1       4.0  5.397605e-79  2.000000e+00  5.397605e-79       1.0       1.0   \n",
       "2       2.0  5.397605e-79  5.397605e-79  2.000000e+00       3.0       1.0   \n",
       "3       4.0  5.397605e-79  2.000000e+00  5.397605e-79       4.0       NaN   \n",
       "4       2.0  5.397605e-79  5.397605e-79  2.000000e+00       5.0       1.0   \n",
       "\n",
       "   INDFMIN2  RIAGENDR  RIDAGEYR  HID010  \n",
       "0       4.0       1.0      69.0     NaN  \n",
       "1       7.0       1.0      54.0     NaN  \n",
       "2      10.0       1.0      72.0     NaN  \n",
       "3       9.0       1.0       9.0     NaN  \n",
       "4      15.0       2.0      73.0     NaN  "
      ]
     },
     "execution_count": 89,
     "metadata": {},
     "output_type": "execute_result"
    }
   ],
   "source": [
    "master.head()"
   ]
  },
  {
   "cell_type": "code",
   "execution_count": 99,
   "metadata": {
    "collapsed": false
   },
   "outputs": [
    {
     "data": {
      "text/plain": [
       "['OCQ', 'DEMO', 'ACQ', 'L10AM', 'HIQ']"
      ]
     },
     "execution_count": 99,
     "metadata": {},
     "output_type": "execute_result"
    }
   ],
   "source": [
    "combinded_var_dict.keys()"
   ]
  },
  {
   "cell_type": "code",
   "execution_count": 44,
   "metadata": {
    "collapsed": false
   },
   "outputs": [
    {
     "name": "stdout",
     "output_type": "stream",
     "text": [
      "count    2.595000e+03\n",
      "mean     6.277457e+00\n",
      "std      6.135838e+00\n",
      "min      5.397605e-79\n",
      "25%               NaN\n",
      "50%               NaN\n",
      "75%               NaN\n",
      "max      9.900000e+01\n",
      "Name: DMDEDUC3, dtype: float64\n",
      "{0.0: 7942, 5.3976053469340279e-79: 239, 2.0: 211, 3.0: 222, 4.0: 213, 5.0: 193, 6.0: 165, 7.0: 185, 8.0: 166, 9.0: 155, 10.0: 193, 11.0: 185, 12.0: 36, 13.0: 94, 14.0: 13, 15.0: 95, 99.0: 1, 66.0: 11, 1.0: 216, 55.0: 2}\n"
     ]
    }
   ],
   "source": [
    "a = filt_data_dict['DEMO_F_2009_2010']['DMDEDUC3']\n",
    "print a.describe()\n",
    "a = a.fillna(0)\n",
    "a = list(a)\n",
    "print {x:a.count(x) for x in a}"
   ]
  },
  {
   "cell_type": "code",
   "execution_count": 409,
   "metadata": {
    "collapsed": false
   },
   "outputs": [
    {
     "data": {
      "text/plain": [
       "{'file': 'OCQ',\n",
       " 'ind_dep': 'independent',\n",
       " 'label': 'Type of work done last week',\n",
       " 'var_type': 'na',\n",
       " 'year': '1999-2014'}"
      ]
     },
     "execution_count": 409,
     "metadata": {},
     "output_type": "execute_result"
    }
   ],
   "source": [
    "var_dict['OCD150']\n",
    "# 0.284399062605 DMDHHSZA 5974 24963 0.239314184994\n",
    "# 0.815701372615 DMDHHSZB 5974 24963 0.239314184994\n",
    "# 0.52109139605 DMDHHSZE 5974 24963 0.239314184994\n",
    "# 3.33677031745 DMDHSEDU 12317 24963 0.493410247166\n",
    "# 7.76969215842 INDFMIN2 11337 24963 0.454152145175"
   ]
  },
  {
   "cell_type": "code",
   "execution_count": 1771,
   "metadata": {
    "collapsed": false
   },
   "outputs": [
    {
     "name": "stdout",
     "output_type": "stream",
     "text": [
      "0        2.040000\n",
      "1        3.520000\n",
      "2        2.720000\n",
      "3        1.240000\n",
      "4        0.920000\n",
      "5        1.960000\n",
      "6        6.040000\n",
      "7        2.560000\n",
      "8        4.280000\n",
      "9        3.320000\n",
      "10       4.160000\n",
      "11       4.282753\n",
      "12       7.000000\n",
      "13       6.200000\n",
      "14       4.282753\n",
      "15       2.920000\n",
      "16       2.600000\n",
      "17       3.120000\n",
      "18       2.280000\n",
      "19       4.400000\n",
      "20       2.480000\n",
      "21       3.160000\n",
      "22       9.800000\n",
      "23       3.680000\n",
      "24       2.240000\n",
      "25       3.840000\n",
      "26       1.800000\n",
      "27       4.040000\n",
      "28       3.480000\n",
      "29       4.080000\n",
      "           ...   \n",
      "21456    4.200000\n",
      "21457    2.480000\n",
      "21458    3.640000\n",
      "21459    2.160000\n",
      "21460    6.360000\n",
      "21461    7.280000\n",
      "21462    1.440000\n",
      "21463    2.720000\n",
      "21464    4.282753\n",
      "21465    3.960000\n",
      "21466    1.240000\n",
      "21467    1.760000\n",
      "21468    3.320000\n",
      "21469    3.840000\n",
      "21470    3.240000\n",
      "21471    1.440000\n",
      "21472    1.840000\n",
      "21473    3.960000\n",
      "21474    1.920000\n",
      "21475    4.440000\n",
      "21476    4.320000\n",
      "21477    1.760000\n",
      "21478    3.200000\n",
      "21479    5.480000\n",
      "21480    3.000000\n",
      "21481    6.800000\n",
      "21482    4.880000\n",
      "21483    3.200000\n",
      "21484    5.000000\n",
      "21485    9.480000\n",
      "Name: lbxstr, dtype: float64\n"
     ]
    }
   ],
   "source": [
    "# master['OCD150'].describe()\n",
    "# combinded_var_dict.keys()\n",
    "\n",
    "a = 10\n",
    "b = 5\n",
    "c/=b\n",
    "print c"
   ]
  },
  {
   "cell_type": "code",
   "execution_count": 1843,
   "metadata": {
    "collapsed": false
   },
   "outputs": [
    {
     "name": "stdout",
     "output_type": "stream",
     "text": [
      "[1, 2, 3, 4, 5, 6, 7, 8, 9, 10]\n"
     ]
    }
   ],
   "source": [
    "print range(1,10+1)"
   ]
  },
  {
   "cell_type": "code",
   "execution_count": null,
   "metadata": {
    "collapsed": true
   },
   "outputs": [],
   "source": []
  }
 ],
 "metadata": {
  "anaconda-cloud": {},
  "kernelspec": {
   "display_name": "Python [Root]",
   "language": "python",
   "name": "Python [Root]"
  },
  "language_info": {
   "codemirror_mode": {
    "name": "ipython",
    "version": 2
   },
   "file_extension": ".py",
   "mimetype": "text/x-python",
   "name": "python",
   "nbconvert_exporter": "python",
   "pygments_lexer": "ipython2",
   "version": "2.7.12"
  }
 },
 "nbformat": 4,
 "nbformat_minor": 0
}
